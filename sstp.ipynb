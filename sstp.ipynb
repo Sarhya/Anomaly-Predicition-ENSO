{
  "nbformat": 4,
  "nbformat_minor": 0,
  "metadata": {
    "colab": {
      "provenance": []
    },
    "kernelspec": {
      "name": "python3",
      "display_name": "Python 3"
    },
    "language_info": {
      "name": "python"
    }
  },
  "cells": [
    {
      "cell_type": "code",
      "execution_count": null,
      "metadata": {
        "id": "nfl-H9Rcy8sU"
      },
      "outputs": [],
      "source": [
        "import numpy as np\n",
        "import pandas as pd\n",
        "import torch\n",
        "import torch.nn as nn\n",
        "from torch.autograd import Variable"
      ]
    },
    {
      "cell_type": "code",
      "source": [
        "from google.colab import drive\n",
        "drive.mount('/content/drive')"
      ],
      "metadata": {
        "colab": {
          "base_uri": "https://localhost:8080/"
        },
        "id": "KZrjASwQzk61",
        "outputId": "bcdc21fc-ce7b-4b13-801e-27e0f9d2dcfb"
      },
      "execution_count": null,
      "outputs": [
        {
          "output_type": "stream",
          "name": "stdout",
          "text": [
            "Drive already mounted at /content/drive; to attempt to forcibly remount, call drive.mount(\"/content/drive\", force_remount=True).\n"
          ]
        }
      ]
    },
    {
      "cell_type": "code",
      "source": [
        "archivon = '/content/drive/My Drive/Social./Trabajo./InDataAnalitycs/sstn34.csv'\n",
        "dfn = pd.read_csv(archivon)"
      ],
      "metadata": {
        "id": "y0EBnV6gzpVo"
      },
      "execution_count": null,
      "outputs": []
    },
    {
      "cell_type": "code",
      "source": [
        "archivoa = '/content/drive/My Drive/Social./Trabajo./InDataAnalitycs/ssta34.csv'\n",
        "dfa = pd.read_csv(archivoa)"
      ],
      "metadata": {
        "id": "18F7_V3s63hK"
      },
      "execution_count": null,
      "outputs": []
    },
    {
      "cell_type": "markdown",
      "source": [
        "# **Estandar temperature**"
      ],
      "metadata": {
        "id": "k7yYIe4A6_JC"
      }
    },
    {
      "cell_type": "code",
      "source": [
        "dfn"
      ],
      "metadata": {
        "colab": {
          "base_uri": "https://localhost:8080/",
          "height": 424
        },
        "id": "TBnjEOnZ8AlX",
        "outputId": "dfee7f3a-74f6-4444-ca71-bbfc2e3b15d1"
      },
      "execution_count": null,
      "outputs": [
        {
          "output_type": "execute_result",
          "data": {
            "text/plain": [
              "     YEAR  Month  NINO3.4\n",
              "0    1982      2    26.54\n",
              "1    1982      3    27.09\n",
              "2    1982      4    27.83\n",
              "3    1982      5    28.37\n",
              "4    1982      6    28.35\n",
              "..    ...    ...      ...\n",
              "495  2023      5    28.35\n",
              "496  2023      6    28.59\n",
              "497  2023      7    28.37\n",
              "498  2023      8    28.20\n",
              "499  2023      9    28.29\n",
              "\n",
              "[500 rows x 3 columns]"
            ],
            "text/html": [
              "\n",
              "  <div id=\"df-78c28506-7eb4-445b-a8b2-0fa111f3b6dd\" class=\"colab-df-container\">\n",
              "    <div>\n",
              "<style scoped>\n",
              "    .dataframe tbody tr th:only-of-type {\n",
              "        vertical-align: middle;\n",
              "    }\n",
              "\n",
              "    .dataframe tbody tr th {\n",
              "        vertical-align: top;\n",
              "    }\n",
              "\n",
              "    .dataframe thead th {\n",
              "        text-align: right;\n",
              "    }\n",
              "</style>\n",
              "<table border=\"1\" class=\"dataframe\">\n",
              "  <thead>\n",
              "    <tr style=\"text-align: right;\">\n",
              "      <th></th>\n",
              "      <th>YEAR</th>\n",
              "      <th>Month</th>\n",
              "      <th>NINO3.4</th>\n",
              "    </tr>\n",
              "  </thead>\n",
              "  <tbody>\n",
              "    <tr>\n",
              "      <th>0</th>\n",
              "      <td>1982</td>\n",
              "      <td>2</td>\n",
              "      <td>26.54</td>\n",
              "    </tr>\n",
              "    <tr>\n",
              "      <th>1</th>\n",
              "      <td>1982</td>\n",
              "      <td>3</td>\n",
              "      <td>27.09</td>\n",
              "    </tr>\n",
              "    <tr>\n",
              "      <th>2</th>\n",
              "      <td>1982</td>\n",
              "      <td>4</td>\n",
              "      <td>27.83</td>\n",
              "    </tr>\n",
              "    <tr>\n",
              "      <th>3</th>\n",
              "      <td>1982</td>\n",
              "      <td>5</td>\n",
              "      <td>28.37</td>\n",
              "    </tr>\n",
              "    <tr>\n",
              "      <th>4</th>\n",
              "      <td>1982</td>\n",
              "      <td>6</td>\n",
              "      <td>28.35</td>\n",
              "    </tr>\n",
              "    <tr>\n",
              "      <th>...</th>\n",
              "      <td>...</td>\n",
              "      <td>...</td>\n",
              "      <td>...</td>\n",
              "    </tr>\n",
              "    <tr>\n",
              "      <th>495</th>\n",
              "      <td>2023</td>\n",
              "      <td>5</td>\n",
              "      <td>28.35</td>\n",
              "    </tr>\n",
              "    <tr>\n",
              "      <th>496</th>\n",
              "      <td>2023</td>\n",
              "      <td>6</td>\n",
              "      <td>28.59</td>\n",
              "    </tr>\n",
              "    <tr>\n",
              "      <th>497</th>\n",
              "      <td>2023</td>\n",
              "      <td>7</td>\n",
              "      <td>28.37</td>\n",
              "    </tr>\n",
              "    <tr>\n",
              "      <th>498</th>\n",
              "      <td>2023</td>\n",
              "      <td>8</td>\n",
              "      <td>28.20</td>\n",
              "    </tr>\n",
              "    <tr>\n",
              "      <th>499</th>\n",
              "      <td>2023</td>\n",
              "      <td>9</td>\n",
              "      <td>28.29</td>\n",
              "    </tr>\n",
              "  </tbody>\n",
              "</table>\n",
              "<p>500 rows × 3 columns</p>\n",
              "</div>\n",
              "    <div class=\"colab-df-buttons\">\n",
              "\n",
              "  <div class=\"colab-df-container\">\n",
              "    <button class=\"colab-df-convert\" onclick=\"convertToInteractive('df-78c28506-7eb4-445b-a8b2-0fa111f3b6dd')\"\n",
              "            title=\"Convert this dataframe to an interactive table.\"\n",
              "            style=\"display:none;\">\n",
              "\n",
              "  <svg xmlns=\"http://www.w3.org/2000/svg\" height=\"24px\" viewBox=\"0 -960 960 960\">\n",
              "    <path d=\"M120-120v-720h720v720H120Zm60-500h600v-160H180v160Zm220 220h160v-160H400v160Zm0 220h160v-160H400v160ZM180-400h160v-160H180v160Zm440 0h160v-160H620v160ZM180-180h160v-160H180v160Zm440 0h160v-160H620v160Z\"/>\n",
              "  </svg>\n",
              "    </button>\n",
              "\n",
              "  <style>\n",
              "    .colab-df-container {\n",
              "      display:flex;\n",
              "      gap: 12px;\n",
              "    }\n",
              "\n",
              "    .colab-df-convert {\n",
              "      background-color: #E8F0FE;\n",
              "      border: none;\n",
              "      border-radius: 50%;\n",
              "      cursor: pointer;\n",
              "      display: none;\n",
              "      fill: #1967D2;\n",
              "      height: 32px;\n",
              "      padding: 0 0 0 0;\n",
              "      width: 32px;\n",
              "    }\n",
              "\n",
              "    .colab-df-convert:hover {\n",
              "      background-color: #E2EBFA;\n",
              "      box-shadow: 0px 1px 2px rgba(60, 64, 67, 0.3), 0px 1px 3px 1px rgba(60, 64, 67, 0.15);\n",
              "      fill: #174EA6;\n",
              "    }\n",
              "\n",
              "    .colab-df-buttons div {\n",
              "      margin-bottom: 4px;\n",
              "    }\n",
              "\n",
              "    [theme=dark] .colab-df-convert {\n",
              "      background-color: #3B4455;\n",
              "      fill: #D2E3FC;\n",
              "    }\n",
              "\n",
              "    [theme=dark] .colab-df-convert:hover {\n",
              "      background-color: #434B5C;\n",
              "      box-shadow: 0px 1px 3px 1px rgba(0, 0, 0, 0.15);\n",
              "      filter: drop-shadow(0px 1px 2px rgba(0, 0, 0, 0.3));\n",
              "      fill: #FFFFFF;\n",
              "    }\n",
              "  </style>\n",
              "\n",
              "    <script>\n",
              "      const buttonEl =\n",
              "        document.querySelector('#df-78c28506-7eb4-445b-a8b2-0fa111f3b6dd button.colab-df-convert');\n",
              "      buttonEl.style.display =\n",
              "        google.colab.kernel.accessAllowed ? 'block' : 'none';\n",
              "\n",
              "      async function convertToInteractive(key) {\n",
              "        const element = document.querySelector('#df-78c28506-7eb4-445b-a8b2-0fa111f3b6dd');\n",
              "        const dataTable =\n",
              "          await google.colab.kernel.invokeFunction('convertToInteractive',\n",
              "                                                    [key], {});\n",
              "        if (!dataTable) return;\n",
              "\n",
              "        const docLinkHtml = 'Like what you see? Visit the ' +\n",
              "          '<a target=\"_blank\" href=https://colab.research.google.com/notebooks/data_table.ipynb>data table notebook</a>'\n",
              "          + ' to learn more about interactive tables.';\n",
              "        element.innerHTML = '';\n",
              "        dataTable['output_type'] = 'display_data';\n",
              "        await google.colab.output.renderOutput(dataTable, element);\n",
              "        const docLink = document.createElement('div');\n",
              "        docLink.innerHTML = docLinkHtml;\n",
              "        element.appendChild(docLink);\n",
              "      }\n",
              "    </script>\n",
              "  </div>\n",
              "\n",
              "\n",
              "<div id=\"df-73dab76e-74ae-4bf9-ab6e-916f5ca09f27\">\n",
              "  <button class=\"colab-df-quickchart\" onclick=\"quickchart('df-73dab76e-74ae-4bf9-ab6e-916f5ca09f27')\"\n",
              "            title=\"Suggest charts.\"\n",
              "            style=\"display:none;\">\n",
              "\n",
              "<svg xmlns=\"http://www.w3.org/2000/svg\" height=\"24px\"viewBox=\"0 0 24 24\"\n",
              "     width=\"24px\">\n",
              "    <g>\n",
              "        <path d=\"M19 3H5c-1.1 0-2 .9-2 2v14c0 1.1.9 2 2 2h14c1.1 0 2-.9 2-2V5c0-1.1-.9-2-2-2zM9 17H7v-7h2v7zm4 0h-2V7h2v10zm4 0h-2v-4h2v4z\"/>\n",
              "    </g>\n",
              "</svg>\n",
              "  </button>\n",
              "\n",
              "<style>\n",
              "  .colab-df-quickchart {\n",
              "      --bg-color: #E8F0FE;\n",
              "      --fill-color: #1967D2;\n",
              "      --hover-bg-color: #E2EBFA;\n",
              "      --hover-fill-color: #174EA6;\n",
              "      --disabled-fill-color: #AAA;\n",
              "      --disabled-bg-color: #DDD;\n",
              "  }\n",
              "\n",
              "  [theme=dark] .colab-df-quickchart {\n",
              "      --bg-color: #3B4455;\n",
              "      --fill-color: #D2E3FC;\n",
              "      --hover-bg-color: #434B5C;\n",
              "      --hover-fill-color: #FFFFFF;\n",
              "      --disabled-bg-color: #3B4455;\n",
              "      --disabled-fill-color: #666;\n",
              "  }\n",
              "\n",
              "  .colab-df-quickchart {\n",
              "    background-color: var(--bg-color);\n",
              "    border: none;\n",
              "    border-radius: 50%;\n",
              "    cursor: pointer;\n",
              "    display: none;\n",
              "    fill: var(--fill-color);\n",
              "    height: 32px;\n",
              "    padding: 0;\n",
              "    width: 32px;\n",
              "  }\n",
              "\n",
              "  .colab-df-quickchart:hover {\n",
              "    background-color: var(--hover-bg-color);\n",
              "    box-shadow: 0 1px 2px rgba(60, 64, 67, 0.3), 0 1px 3px 1px rgba(60, 64, 67, 0.15);\n",
              "    fill: var(--button-hover-fill-color);\n",
              "  }\n",
              "\n",
              "  .colab-df-quickchart-complete:disabled,\n",
              "  .colab-df-quickchart-complete:disabled:hover {\n",
              "    background-color: var(--disabled-bg-color);\n",
              "    fill: var(--disabled-fill-color);\n",
              "    box-shadow: none;\n",
              "  }\n",
              "\n",
              "  .colab-df-spinner {\n",
              "    border: 2px solid var(--fill-color);\n",
              "    border-color: transparent;\n",
              "    border-bottom-color: var(--fill-color);\n",
              "    animation:\n",
              "      spin 1s steps(1) infinite;\n",
              "  }\n",
              "\n",
              "  @keyframes spin {\n",
              "    0% {\n",
              "      border-color: transparent;\n",
              "      border-bottom-color: var(--fill-color);\n",
              "      border-left-color: var(--fill-color);\n",
              "    }\n",
              "    20% {\n",
              "      border-color: transparent;\n",
              "      border-left-color: var(--fill-color);\n",
              "      border-top-color: var(--fill-color);\n",
              "    }\n",
              "    30% {\n",
              "      border-color: transparent;\n",
              "      border-left-color: var(--fill-color);\n",
              "      border-top-color: var(--fill-color);\n",
              "      border-right-color: var(--fill-color);\n",
              "    }\n",
              "    40% {\n",
              "      border-color: transparent;\n",
              "      border-right-color: var(--fill-color);\n",
              "      border-top-color: var(--fill-color);\n",
              "    }\n",
              "    60% {\n",
              "      border-color: transparent;\n",
              "      border-right-color: var(--fill-color);\n",
              "    }\n",
              "    80% {\n",
              "      border-color: transparent;\n",
              "      border-right-color: var(--fill-color);\n",
              "      border-bottom-color: var(--fill-color);\n",
              "    }\n",
              "    90% {\n",
              "      border-color: transparent;\n",
              "      border-bottom-color: var(--fill-color);\n",
              "    }\n",
              "  }\n",
              "</style>\n",
              "\n",
              "  <script>\n",
              "    async function quickchart(key) {\n",
              "      const quickchartButtonEl =\n",
              "        document.querySelector('#' + key + ' button');\n",
              "      quickchartButtonEl.disabled = true;  // To prevent multiple clicks.\n",
              "      quickchartButtonEl.classList.add('colab-df-spinner');\n",
              "      try {\n",
              "        const charts = await google.colab.kernel.invokeFunction(\n",
              "            'suggestCharts', [key], {});\n",
              "      } catch (error) {\n",
              "        console.error('Error during call to suggestCharts:', error);\n",
              "      }\n",
              "      quickchartButtonEl.classList.remove('colab-df-spinner');\n",
              "      quickchartButtonEl.classList.add('colab-df-quickchart-complete');\n",
              "    }\n",
              "    (() => {\n",
              "      let quickchartButtonEl =\n",
              "        document.querySelector('#df-73dab76e-74ae-4bf9-ab6e-916f5ca09f27 button');\n",
              "      quickchartButtonEl.style.display =\n",
              "        google.colab.kernel.accessAllowed ? 'block' : 'none';\n",
              "    })();\n",
              "  </script>\n",
              "</div>\n",
              "    </div>\n",
              "  </div>\n"
            ]
          },
          "metadata": {},
          "execution_count": 87
        }
      ]
    },
    {
      "cell_type": "code",
      "source": [
        "# Preprocesar los datos\n",
        "# Agregar una columna \"Date\" que combine Year y Month para tener una fecha\n",
        "dfn['Date'] = pd.to_datetime(dfn[['YEAR', 'Month']].assign(day=1))\n",
        "# Seleccionar la columna \"Date\" como índice\n",
        "dfn.set_index('Date', inplace=True)\n",
        "# Normalizar los valores de las temperaturas en la zona  NIÑO3.4\n",
        "NINO34_mean = dfn['NINO3.4'].mean()\n",
        "NINO34_std = dfn['NINO3.4'].std()\n",
        "dfn['NINO3.4'] = (dfn['NINO3.4'] - NINO34_mean) / NINO34_std\n"
      ],
      "metadata": {
        "id": "BdEcIn4jzzq8"
      },
      "execution_count": null,
      "outputs": []
    },
    {
      "cell_type": "code",
      "source": [
        "# Crear secuencias de datos de entrenamiento\n",
        "sequence_length = 12  # Usar un año de datos para predecir el siguiente\n",
        "sequences = []\n",
        "for i in range(len(dfn) - sequence_length):\n",
        "    sequence = dfn['NINO3.4'].iloc[i:i + sequence_length].values\n",
        "    target = dfn['NINO3.4'].iloc[i + sequence_length]\n",
        "    sequences.append((sequence, target))"
      ],
      "metadata": {
        "id": "I3Jo2sF2z8dy"
      },
      "execution_count": null,
      "outputs": []
    },
    {
      "cell_type": "code",
      "source": [
        "# Dividir los datos en conjuntos de entrenamiento y prueba\n",
        "train_size = int(0.8 * len(sequences))\n",
        "train_data = sequences[:train_size]\n",
        "test_data = sequences[train_size:]"
      ],
      "metadata": {
        "id": "D0TxgiQqz-qj"
      },
      "execution_count": null,
      "outputs": []
    },
    {
      "cell_type": "code",
      "source": [
        "# Definir una clase de modelo RNN simple\n",
        "class NINO34Model(nn.Module):\n",
        "    def __init__(self, input_size, hidden_size, num_layers):\n",
        "        super(NINO34Model, self).__init__()\n",
        "        self.hidden_size = hidden_size\n",
        "        self.num_layers = num_layers\n",
        "        self.lstm = nn.LSTM(input_size, hidden_size, num_layers, batch_first=True)\n",
        "        self.fc = nn.Linear(hidden_size, 1)\n",
        "\n",
        "    def forward(self, x):\n",
        "        h0 = Variable(torch.zeros(self.num_layers, x.size(0), self.hidden_size))\n",
        "        c0 = Variable(torch.zeros(self.num_layers, x.size(0), self.hidden_size))\n",
        "        out, _ = self.lstm(x, (h0, c0))\n",
        "        out = self.fc(out[:, -1, :])\n",
        "        return out\n"
      ],
      "metadata": {
        "id": "NQN3Zlzr0Btk"
      },
      "execution_count": null,
      "outputs": []
    },
    {
      "cell_type": "code",
      "source": [
        "# Crear el modelo\n",
        "input_size = 1  # Solo se predice el valor la temperatura en la zona NINO34\n",
        "hidden_size = 64\n",
        "num_layers = 2\n",
        "model = NINO34Model(input_size, hidden_size, num_layers)\n"
      ],
      "metadata": {
        "id": "tQW3WNsF0ElO"
      },
      "execution_count": null,
      "outputs": []
    },
    {
      "cell_type": "code",
      "source": [
        "# Función de pérdida y optimizador\n",
        "criterion = nn.MSELoss()\n",
        "optimizer = torch.optim.Adam(model.parameters(), lr=0.001)"
      ],
      "metadata": {
        "id": "IaXapFpM0Ivh"
      },
      "execution_count": null,
      "outputs": []
    },
    {
      "cell_type": "code",
      "source": [
        "# Entrenar el modelo\n",
        "num_epochs = 100\n",
        "for epoch in range(num_epochs):\n",
        "    for sequence, target in train_data:\n",
        "        sequence = np.reshape(sequence, (1, sequence_length, 1))\n",
        "        sequence = Variable(torch.Tensor(sequence))\n",
        "        target = Variable(torch.Tensor(np.array([target])))\n",
        "\n",
        "        # Forward pass\n",
        "        outputs = model(sequence)\n",
        "        loss = criterion(outputs, target)\n",
        "\n",
        "        # Backward pass y optimización\n",
        "        optimizer.zero_grad()\n",
        "        loss.backward()\n",
        "        optimizer.step()\n",
        "\n",
        "    if (epoch + 1) % 10 == 0:\n",
        "        print(f'Epoch [{epoch + 1}/{num_epochs}], Loss: {loss.item():.4f}')"
      ],
      "metadata": {
        "colab": {
          "base_uri": "https://localhost:8080/"
        },
        "id": "yFwRdFcz0Lr-",
        "outputId": "fe1ef3ea-806e-4c92-d6f5-351e0122a7f5"
      },
      "execution_count": null,
      "outputs": [
        {
          "output_type": "stream",
          "name": "stderr",
          "text": [
            "/usr/local/lib/python3.10/dist-packages/torch/nn/modules/loss.py:536: UserWarning:\n",
            "\n",
            "Using a target size (torch.Size([1])) that is different to the input size (torch.Size([1, 1])). This will likely lead to incorrect results due to broadcasting. Please ensure they have the same size.\n",
            "\n"
          ]
        },
        {
          "output_type": "stream",
          "name": "stdout",
          "text": [
            "Epoch [10/100], Loss: 0.2030\n",
            "Epoch [20/100], Loss: 0.0822\n",
            "Epoch [30/100], Loss: 0.0748\n",
            "Epoch [40/100], Loss: 0.0011\n",
            "Epoch [50/100], Loss: 0.0016\n",
            "Epoch [60/100], Loss: 0.0070\n",
            "Epoch [70/100], Loss: 0.0028\n",
            "Epoch [80/100], Loss: 0.0014\n",
            "Epoch [90/100], Loss: 0.0049\n",
            "Epoch [100/100], Loss: 0.0079\n"
          ]
        }
      ]
    },
    {
      "cell_type": "code",
      "source": [
        "# Evaluar el modelo en el conjunto de prueba\n",
        "model.eval()\n",
        "test_losses = []\n",
        "with torch.no_grad():\n",
        "    for sequence, target in test_data:\n",
        "        sequence = np.reshape(sequence, (1, sequence_length, 1))\n",
        "        sequence = Variable(torch.Tensor(sequence))\n",
        "        target = Variable(torch.Tensor(np.array([target])))\n",
        "\n",
        "        outputs = model(sequence)\n",
        "        loss = criterion(outputs, target)\n",
        "        test_losses.append(loss.item())\n",
        "\n",
        "average_test_loss = np.mean(test_losses)\n",
        "print(f'Loss mean in the test set: {average_test_loss:.4f}')\n"
      ],
      "metadata": {
        "colab": {
          "base_uri": "https://localhost:8080/"
        },
        "id": "XHYTeJTW0Q47",
        "outputId": "9fbab475-ae59-4977-8a83-4857f3c0c940"
      },
      "execution_count": null,
      "outputs": [
        {
          "output_type": "stream",
          "name": "stdout",
          "text": [
            "Loss mean in the test set: 0.1707\n"
          ]
        }
      ]
    },
    {
      "cell_type": "code",
      "source": [
        "# Predecir los valores de la temperatura en la zona NINO34 para los próximos 8 años\n",
        "future_predictions = []\n",
        "last_sequence = test_data[-1][0]\n",
        "for i in range(8 * 12):\n",
        "    sequence = np.reshape(last_sequence, (1, sequence_length, 1))\n",
        "    sequence = Variable(torch.Tensor(sequence))\n",
        "    prediction = model(sequence)\n",
        "    future_predictions.append(prediction.item())\n",
        "    last_sequence = np.append(last_sequence[1:], prediction.item())"
      ],
      "metadata": {
        "id": "A_3o51TE0Xls"
      },
      "execution_count": null,
      "outputs": []
    },
    {
      "cell_type": "code",
      "source": [
        "# Desnormalizar las predicciones\n",
        "future_predictions = np.array(future_predictions) * NINO34_std + NINO34_mean\n"
      ],
      "metadata": {
        "id": "3cGyoyL50YrD"
      },
      "execution_count": null,
      "outputs": []
    },
    {
      "cell_type": "code",
      "source": [
        "# Imprimir las predicciones para los próximos 8 años\n",
        "for i, prediction in enumerate(future_predictions):\n",
        "    print(f'YEAR {i // 12 + 1}, Mes {i % 12 + 1}: Prediction NINO34 = {prediction:.4f}')"
      ],
      "metadata": {
        "colab": {
          "base_uri": "https://localhost:8080/"
        },
        "id": "isnj81w-0ajV",
        "outputId": "bf560531-c6b7-4e81-e2fd-8a1d17db3bdc"
      },
      "execution_count": null,
      "outputs": [
        {
          "output_type": "stream",
          "name": "stdout",
          "text": [
            "YEAR 1, Mes 1: Prediction NINO34 = 28.3038\n",
            "YEAR 1, Mes 2: Prediction NINO34 = 28.6286\n",
            "YEAR 1, Mes 3: Prediction NINO34 = 28.6965\n",
            "YEAR 1, Mes 4: Prediction NINO34 = 28.4884\n",
            "YEAR 1, Mes 5: Prediction NINO34 = 28.2614\n",
            "YEAR 1, Mes 6: Prediction NINO34 = 28.3656\n",
            "YEAR 1, Mes 7: Prediction NINO34 = 28.4929\n",
            "YEAR 1, Mes 8: Prediction NINO34 = 28.3820\n",
            "YEAR 1, Mes 9: Prediction NINO34 = 27.1393\n",
            "YEAR 1, Mes 10: Prediction NINO34 = 26.3750\n",
            "YEAR 1, Mes 11: Prediction NINO34 = 25.8043\n",
            "YEAR 1, Mes 12: Prediction NINO34 = 25.6035\n",
            "YEAR 2, Mes 1: Prediction NINO34 = 25.2400\n",
            "YEAR 2, Mes 2: Prediction NINO34 = 25.2087\n",
            "YEAR 2, Mes 3: Prediction NINO34 = 24.9250\n",
            "YEAR 2, Mes 4: Prediction NINO34 = 24.8867\n",
            "YEAR 2, Mes 5: Prediction NINO34 = 25.5539\n",
            "YEAR 2, Mes 6: Prediction NINO34 = 26.3660\n",
            "YEAR 2, Mes 7: Prediction NINO34 = 27.0738\n",
            "YEAR 2, Mes 8: Prediction NINO34 = 27.3239\n",
            "YEAR 2, Mes 9: Prediction NINO34 = 27.2903\n",
            "YEAR 2, Mes 10: Prediction NINO34 = 27.0909\n",
            "YEAR 2, Mes 11: Prediction NINO34 = 26.5571\n",
            "YEAR 2, Mes 12: Prediction NINO34 = 26.3603\n",
            "YEAR 3, Mes 1: Prediction NINO34 = 26.3824\n",
            "YEAR 3, Mes 2: Prediction NINO34 = 26.1204\n",
            "YEAR 3, Mes 3: Prediction NINO34 = 25.6477\n",
            "YEAR 3, Mes 4: Prediction NINO34 = 25.7978\n",
            "YEAR 3, Mes 5: Prediction NINO34 = 26.2171\n",
            "YEAR 3, Mes 6: Prediction NINO34 = 26.7128\n",
            "YEAR 3, Mes 7: Prediction NINO34 = 27.8061\n",
            "YEAR 3, Mes 8: Prediction NINO34 = 28.1456\n",
            "YEAR 3, Mes 9: Prediction NINO34 = 28.3585\n",
            "YEAR 3, Mes 10: Prediction NINO34 = 27.8557\n",
            "YEAR 3, Mes 11: Prediction NINO34 = 27.8061\n",
            "YEAR 3, Mes 12: Prediction NINO34 = 27.9007\n",
            "YEAR 4, Mes 1: Prediction NINO34 = 27.9513\n",
            "YEAR 4, Mes 2: Prediction NINO34 = 28.2429\n",
            "YEAR 4, Mes 3: Prediction NINO34 = 27.9979\n",
            "YEAR 4, Mes 4: Prediction NINO34 = 27.5527\n",
            "YEAR 4, Mes 5: Prediction NINO34 = 27.3323\n",
            "YEAR 4, Mes 6: Prediction NINO34 = 27.7177\n",
            "YEAR 4, Mes 7: Prediction NINO34 = 27.6856\n",
            "YEAR 4, Mes 8: Prediction NINO34 = 27.1602\n",
            "YEAR 4, Mes 9: Prediction NINO34 = 26.9712\n",
            "YEAR 4, Mes 10: Prediction NINO34 = 26.5644\n",
            "YEAR 4, Mes 11: Prediction NINO34 = 26.1210\n",
            "YEAR 4, Mes 12: Prediction NINO34 = 25.7829\n",
            "YEAR 5, Mes 1: Prediction NINO34 = 25.5588\n",
            "YEAR 5, Mes 2: Prediction NINO34 = 25.4402\n",
            "YEAR 5, Mes 3: Prediction NINO34 = 25.3002\n",
            "YEAR 5, Mes 4: Prediction NINO34 = 25.4031\n",
            "YEAR 5, Mes 5: Prediction NINO34 = 26.2618\n",
            "YEAR 5, Mes 6: Prediction NINO34 = 27.0311\n",
            "YEAR 5, Mes 7: Prediction NINO34 = 27.2559\n",
            "YEAR 5, Mes 8: Prediction NINO34 = 27.2904\n",
            "YEAR 5, Mes 9: Prediction NINO34 = 27.1758\n",
            "YEAR 5, Mes 10: Prediction NINO34 = 26.7905\n",
            "YEAR 5, Mes 11: Prediction NINO34 = 26.3995\n",
            "YEAR 5, Mes 12: Prediction NINO34 = 26.3905\n",
            "YEAR 6, Mes 1: Prediction NINO34 = 26.2341\n",
            "YEAR 6, Mes 2: Prediction NINO34 = 25.6848\n",
            "YEAR 6, Mes 3: Prediction NINO34 = 25.7545\n",
            "YEAR 6, Mes 4: Prediction NINO34 = 26.1981\n",
            "YEAR 6, Mes 5: Prediction NINO34 = 26.5954\n",
            "YEAR 6, Mes 6: Prediction NINO34 = 27.6376\n",
            "YEAR 6, Mes 7: Prediction NINO34 = 28.0831\n",
            "YEAR 6, Mes 8: Prediction NINO34 = 28.3663\n",
            "YEAR 6, Mes 9: Prediction NINO34 = 27.8484\n",
            "YEAR 6, Mes 10: Prediction NINO34 = 27.6503\n",
            "YEAR 6, Mes 11: Prediction NINO34 = 27.6103\n",
            "YEAR 6, Mes 12: Prediction NINO34 = 27.8024\n",
            "YEAR 7, Mes 1: Prediction NINO34 = 28.2555\n",
            "YEAR 7, Mes 2: Prediction NINO34 = 28.1458\n",
            "YEAR 7, Mes 3: Prediction NINO34 = 27.7696\n",
            "YEAR 7, Mes 4: Prediction NINO34 = 27.7115\n",
            "YEAR 7, Mes 5: Prediction NINO34 = 28.2860\n",
            "YEAR 7, Mes 6: Prediction NINO34 = 28.3033\n",
            "YEAR 7, Mes 7: Prediction NINO34 = 27.5189\n",
            "YEAR 7, Mes 8: Prediction NINO34 = 27.1642\n",
            "YEAR 7, Mes 9: Prediction NINO34 = 26.5276\n",
            "YEAR 7, Mes 10: Prediction NINO34 = 25.8389\n",
            "YEAR 7, Mes 11: Prediction NINO34 = 25.4670\n",
            "YEAR 7, Mes 12: Prediction NINO34 = 25.3930\n",
            "YEAR 8, Mes 1: Prediction NINO34 = 25.3152\n",
            "YEAR 8, Mes 2: Prediction NINO34 = 25.1387\n",
            "YEAR 8, Mes 3: Prediction NINO34 = 24.7612\n",
            "YEAR 8, Mes 4: Prediction NINO34 = 25.3403\n",
            "YEAR 8, Mes 5: Prediction NINO34 = 26.3132\n",
            "YEAR 8, Mes 6: Prediction NINO34 = 26.9317\n",
            "YEAR 8, Mes 7: Prediction NINO34 = 27.4666\n",
            "YEAR 8, Mes 8: Prediction NINO34 = 27.5258\n",
            "YEAR 8, Mes 9: Prediction NINO34 = 27.2125\n",
            "YEAR 8, Mes 10: Prediction NINO34 = 26.7085\n",
            "YEAR 8, Mes 11: Prediction NINO34 = 26.4908\n",
            "YEAR 8, Mes 12: Prediction NINO34 = 26.4028\n"
          ]
        }
      ]
    },
    {
      "cell_type": "code",
      "source": [
        "from sklearn.metrics import mean_squared_error\n",
        "\n",
        "# ...\n",
        "\n",
        "# Evaluar el modelo en el conjunto de prueba\n",
        "model.eval()\n",
        "test_losses = []\n",
        "true_values = []  # Almacena los valores reales\n",
        "predicted_values = []  # Almacena las predicciones\n",
        "\n",
        "with torch.no_grad():\n",
        "    for sequence, target in test_data:\n",
        "        sequence = np.reshape(sequence, (1, sequence_length, 1))\n",
        "        sequence = Variable(torch.Tensor(sequence))\n",
        "        target = Variable(torch.Tensor(np.array([target])))\n",
        "\n",
        "        outputs = model(sequence)\n",
        "        loss = criterion(outputs, target)\n",
        "        test_losses.append(loss.item())\n",
        "\n",
        "        # Almacenar valores reales y predicciones\n",
        "        true_values.append(target.item())\n",
        "        predicted_values.append(outputs.item())\n",
        "\n",
        "average_test_loss = np.mean(test_losses)\n",
        "print(f'Loss mean in the test set (MSE): {average_test_loss:.4f}')\n",
        "\n",
        "# Calcular el MSE\n",
        "mse = mean_squared_error(true_values, predicted_values)\n",
        "print(f'Mean cuadratic error (MSE) in the test set: {mse:.4f}')\n"
      ],
      "metadata": {
        "colab": {
          "base_uri": "https://localhost:8080/"
        },
        "id": "ilHUUIgy5_Y2",
        "outputId": "7be91cef-a6e1-42bf-99bf-2b406eabe6b2"
      },
      "execution_count": null,
      "outputs": [
        {
          "output_type": "stream",
          "name": "stdout",
          "text": [
            "Loss mean in the test set (MSE): 0.1707\n",
            "Mean cuadratic error (MSE) in the test set: 0.1707\n"
          ]
        }
      ]
    },
    {
      "cell_type": "code",
      "source": [
        "threshold = 0.5  # Umbral de tolerancia\n",
        "correct_predictions = 0\n",
        "\n",
        "for i in range(len(predicted_values)):\n",
        "    if abs(predicted_values[i] - test_data[i][1]) <= threshold:\n",
        "        correct_predictions += 1\n",
        "\n",
        "accuracy = correct_predictions / len(predicted_values)\n",
        "print(f'Accuracy: {accuracy * 100:.2f}%')"
      ],
      "metadata": {
        "colab": {
          "base_uri": "https://localhost:8080/"
        },
        "id": "rvuvdYmh-b3W",
        "outputId": "47cfb9b4-5aca-40c6-a726-f2b2bbdf5890"
      },
      "execution_count": null,
      "outputs": [
        {
          "output_type": "stream",
          "name": "stdout",
          "text": [
            "Accuracy: 83.67%\n"
          ]
        }
      ]
    },
    {
      "cell_type": "code",
      "source": [
        "import matplotlib.pyplot as plt\n",
        "import plotly.express as px\n",
        "import numpy as np\n",
        "import plotly.graph_objects as go  # Importar el módulo go\n",
        "\n",
        "# Crear un rango de fechas para los próximos 8 años (96 meses)\n",
        "start_date = dfa.index[-1] + pd.DateOffset(months=1)\n",
        "end_date = start_date + pd.DateOffset(months=95)\n",
        "date_range = pd.date_range(start_date, end_date, freq='MS')\n",
        "\n",
        "# Verificar que date_range y future_predictions tengan la misma longitud\n",
        "if len(date_range) == len(future_predictions):\n",
        "    # Crear un DataFrame para Plotly\n",
        "    df = pd.DataFrame({'Date': date_range, 'Predictions': future_predictions})\n",
        "\n",
        "    # Agregar una columna de colores en base a las condiciones\n",
        "    # Crear una lista de colores para el relleno\n",
        "    fill_colors = ['green' if x > 0.5 else 'purple' if x < -0.5 else 'rgba(255, 255, 255, 0)' for x in future_predictions]\n",
        "\n",
        "    # Crear la figura interactiva con Plotly Express\n",
        "    fig = px.line(df, x='Date', y='Predictions', line_shape='linear', title='NINO3.4 temperature predictions')\n",
        "\n",
        "    # Agregar las líneas de referencia\n",
        "    fig.add_hline(y=28, line_dash='dot', line_color='red', annotation_text='+28')\n",
        "    #fig.add_hline(y=-0.5, line_dash='dot', line_color='red', annotation_text='-0.5')\n",
        "\n",
        "    # Rellenar áreas verdes y moradas\n",
        "    #fig.add_trace(go.Scatter(x=date_range, y=[0.5] * len(date_range), fill='tozeroy', fillcolor='rgba(0, 128, 0, 0.3)', line=dict(color='rgba(255, 255, 255, 0)')))\n",
        "    #fig.add_trace(go.Scatter(x=date_range, y=[-0.5] * len(date_range), fill='tozeroy', fillcolor='rgba(128, 0, 128, 0.3)', line=dict(color='rgba(255, 255, 255, 0)')))\n",
        "\n",
        "    # Mostrar la figura interactiva\n",
        "    fig.show()\n",
        "    fig.write_html(\"sstnp.html\")\n",
        "else:\n",
        "    print(\"Las dimensiones de date_range y future_predictions no coinciden\")\n",
        "\n",
        "\n"
      ],
      "metadata": {
        "colab": {
          "base_uri": "https://localhost:8080/",
          "height": 542
        },
        "id": "0LoBuqbZksTB",
        "outputId": "2171a003-084d-4a27-f58d-edc9ed8c06c7"
      },
      "execution_count": null,
      "outputs": [
        {
          "output_type": "display_data",
          "data": {
            "text/html": [
              "<html>\n",
              "<head><meta charset=\"utf-8\" /></head>\n",
              "<body>\n",
              "    <div>            <script src=\"https://cdnjs.cloudflare.com/ajax/libs/mathjax/2.7.5/MathJax.js?config=TeX-AMS-MML_SVG\"></script><script type=\"text/javascript\">if (window.MathJax && window.MathJax.Hub && window.MathJax.Hub.Config) {window.MathJax.Hub.Config({SVG: {font: \"STIX-Web\"}});}</script>                <script type=\"text/javascript\">window.PlotlyConfig = {MathJaxConfig: 'local'};</script>\n",
              "        <script charset=\"utf-8\" src=\"https://cdn.plot.ly/plotly-2.24.1.min.js\"></script>                <div id=\"7529b024-36dc-459f-8328-3131d63f1cfc\" class=\"plotly-graph-div\" style=\"height:525px; width:100%;\"></div>            <script type=\"text/javascript\">                                    window.PLOTLYENV=window.PLOTLYENV || {};                                    if (document.getElementById(\"7529b024-36dc-459f-8328-3131d63f1cfc\")) {                    Plotly.newPlot(                        \"7529b024-36dc-459f-8328-3131d63f1cfc\",                        [{\"hovertemplate\":\"Date=%{x}\\u003cbr\\u003ePredictions=%{y}\\u003cextra\\u003e\\u003c\\u002fextra\\u003e\",\"legendgroup\":\"\",\"line\":{\"color\":\"#636efa\",\"dash\":\"solid\",\"shape\":\"linear\"},\"marker\":{\"symbol\":\"circle\"},\"mode\":\"lines\",\"name\":\"\",\"orientation\":\"v\",\"showlegend\":false,\"x\":[\"2023-10-01T00:00:00\",\"2023-11-01T00:00:00\",\"2023-12-01T00:00:00\",\"2024-01-01T00:00:00\",\"2024-02-01T00:00:00\",\"2024-03-01T00:00:00\",\"2024-04-01T00:00:00\",\"2024-05-01T00:00:00\",\"2024-06-01T00:00:00\",\"2024-07-01T00:00:00\",\"2024-08-01T00:00:00\",\"2024-09-01T00:00:00\",\"2024-10-01T00:00:00\",\"2024-11-01T00:00:00\",\"2024-12-01T00:00:00\",\"2025-01-01T00:00:00\",\"2025-02-01T00:00:00\",\"2025-03-01T00:00:00\",\"2025-04-01T00:00:00\",\"2025-05-01T00:00:00\",\"2025-06-01T00:00:00\",\"2025-07-01T00:00:00\",\"2025-08-01T00:00:00\",\"2025-09-01T00:00:00\",\"2025-10-01T00:00:00\",\"2025-11-01T00:00:00\",\"2025-12-01T00:00:00\",\"2026-01-01T00:00:00\",\"2026-02-01T00:00:00\",\"2026-03-01T00:00:00\",\"2026-04-01T00:00:00\",\"2026-05-01T00:00:00\",\"2026-06-01T00:00:00\",\"2026-07-01T00:00:00\",\"2026-08-01T00:00:00\",\"2026-09-01T00:00:00\",\"2026-10-01T00:00:00\",\"2026-11-01T00:00:00\",\"2026-12-01T00:00:00\",\"2027-01-01T00:00:00\",\"2027-02-01T00:00:00\",\"2027-03-01T00:00:00\",\"2027-04-01T00:00:00\",\"2027-05-01T00:00:00\",\"2027-06-01T00:00:00\",\"2027-07-01T00:00:00\",\"2027-08-01T00:00:00\",\"2027-09-01T00:00:00\",\"2027-10-01T00:00:00\",\"2027-11-01T00:00:00\",\"2027-12-01T00:00:00\",\"2028-01-01T00:00:00\",\"2028-02-01T00:00:00\",\"2028-03-01T00:00:00\",\"2028-04-01T00:00:00\",\"2028-05-01T00:00:00\",\"2028-06-01T00:00:00\",\"2028-07-01T00:00:00\",\"2028-08-01T00:00:00\",\"2028-09-01T00:00:00\",\"2028-10-01T00:00:00\",\"2028-11-01T00:00:00\",\"2028-12-01T00:00:00\",\"2029-01-01T00:00:00\",\"2029-02-01T00:00:00\",\"2029-03-01T00:00:00\",\"2029-04-01T00:00:00\",\"2029-05-01T00:00:00\",\"2029-06-01T00:00:00\",\"2029-07-01T00:00:00\",\"2029-08-01T00:00:00\",\"2029-09-01T00:00:00\",\"2029-10-01T00:00:00\",\"2029-11-01T00:00:00\",\"2029-12-01T00:00:00\",\"2030-01-01T00:00:00\",\"2030-02-01T00:00:00\",\"2030-03-01T00:00:00\",\"2030-04-01T00:00:00\",\"2030-05-01T00:00:00\",\"2030-06-01T00:00:00\",\"2030-07-01T00:00:00\",\"2030-08-01T00:00:00\",\"2030-09-01T00:00:00\",\"2030-10-01T00:00:00\",\"2030-11-01T00:00:00\",\"2030-12-01T00:00:00\",\"2031-01-01T00:00:00\",\"2031-02-01T00:00:00\",\"2031-03-01T00:00:00\",\"2031-04-01T00:00:00\",\"2031-05-01T00:00:00\",\"2031-06-01T00:00:00\",\"2031-07-01T00:00:00\",\"2031-08-01T00:00:00\",\"2031-09-01T00:00:00\"],\"xaxis\":\"x\",\"y\":[28.303767514372485,28.62857979341562,28.696525804546194,28.48836368127248,28.261448385673475,28.365550982410657,28.492935000888917,28.382017025340833,27.139253085451656,26.37500558900431,25.804289142907333,25.60347664980481,25.23995126917688,25.2086560770315,24.92495910892696,24.886741032036774,25.55388690949171,26.3660103606419,27.07377880643972,27.323855476900007,27.290329480103537,27.09092118434814,26.55714098916484,26.360316502725073,26.3824413595768,26.120385980324567,25.647667580032305,25.79776372489608,26.217077111195664,26.712814866319146,27.806119324541847,28.145640190151916,28.358480347659945,27.85567475565312,27.806095528538602,27.90068435882839,27.951269122517125,28.24291033826114,27.997942298061837,27.55265888078982,27.332253685584778,27.717740798918665,27.6856336600117,27.160216424623563,26.97123398594591,26.564436414188492,26.12096974545883,25.782894444654023,25.55877407724624,25.44023765016963,25.300231575907873,25.403138720225453,26.261782679450604,27.03109075490654,27.255871849997085,27.29040900736379,27.175750678806683,26.790512745236,26.399520220243772,26.390490117453805,26.234114371248886,25.684780075394013,25.754533678410105,26.198075013458745,26.595421184362788,27.63755160281162,28.08306404954956,28.366286680221226,27.848412791992697,27.650270255672428,27.61027279166066,27.80235695599063,28.255477341058505,28.14578387053256,27.769562106937595,27.71154366401157,28.286023496066083,28.30329023776581,27.51886092563321,27.16418112985559,26.527607379530536,25.838939062807235,25.466984809998667,25.3929852312965,25.31515251778168,25.138721827871997,24.761227458545246,25.340251253290845,26.31317763770116,26.931651680233053,27.466617789651753,27.525806702020095,27.21252895619406,26.7084648890987,26.490804684391613,26.402806668730072],\"yaxis\":\"y\",\"type\":\"scatter\"}],                        {\"template\":{\"data\":{\"histogram2dcontour\":[{\"type\":\"histogram2dcontour\",\"colorbar\":{\"outlinewidth\":0,\"ticks\":\"\"},\"colorscale\":[[0.0,\"#0d0887\"],[0.1111111111111111,\"#46039f\"],[0.2222222222222222,\"#7201a8\"],[0.3333333333333333,\"#9c179e\"],[0.4444444444444444,\"#bd3786\"],[0.5555555555555556,\"#d8576b\"],[0.6666666666666666,\"#ed7953\"],[0.7777777777777778,\"#fb9f3a\"],[0.8888888888888888,\"#fdca26\"],[1.0,\"#f0f921\"]]}],\"choropleth\":[{\"type\":\"choropleth\",\"colorbar\":{\"outlinewidth\":0,\"ticks\":\"\"}}],\"histogram2d\":[{\"type\":\"histogram2d\",\"colorbar\":{\"outlinewidth\":0,\"ticks\":\"\"},\"colorscale\":[[0.0,\"#0d0887\"],[0.1111111111111111,\"#46039f\"],[0.2222222222222222,\"#7201a8\"],[0.3333333333333333,\"#9c179e\"],[0.4444444444444444,\"#bd3786\"],[0.5555555555555556,\"#d8576b\"],[0.6666666666666666,\"#ed7953\"],[0.7777777777777778,\"#fb9f3a\"],[0.8888888888888888,\"#fdca26\"],[1.0,\"#f0f921\"]]}],\"heatmap\":[{\"type\":\"heatmap\",\"colorbar\":{\"outlinewidth\":0,\"ticks\":\"\"},\"colorscale\":[[0.0,\"#0d0887\"],[0.1111111111111111,\"#46039f\"],[0.2222222222222222,\"#7201a8\"],[0.3333333333333333,\"#9c179e\"],[0.4444444444444444,\"#bd3786\"],[0.5555555555555556,\"#d8576b\"],[0.6666666666666666,\"#ed7953\"],[0.7777777777777778,\"#fb9f3a\"],[0.8888888888888888,\"#fdca26\"],[1.0,\"#f0f921\"]]}],\"heatmapgl\":[{\"type\":\"heatmapgl\",\"colorbar\":{\"outlinewidth\":0,\"ticks\":\"\"},\"colorscale\":[[0.0,\"#0d0887\"],[0.1111111111111111,\"#46039f\"],[0.2222222222222222,\"#7201a8\"],[0.3333333333333333,\"#9c179e\"],[0.4444444444444444,\"#bd3786\"],[0.5555555555555556,\"#d8576b\"],[0.6666666666666666,\"#ed7953\"],[0.7777777777777778,\"#fb9f3a\"],[0.8888888888888888,\"#fdca26\"],[1.0,\"#f0f921\"]]}],\"contourcarpet\":[{\"type\":\"contourcarpet\",\"colorbar\":{\"outlinewidth\":0,\"ticks\":\"\"}}],\"contour\":[{\"type\":\"contour\",\"colorbar\":{\"outlinewidth\":0,\"ticks\":\"\"},\"colorscale\":[[0.0,\"#0d0887\"],[0.1111111111111111,\"#46039f\"],[0.2222222222222222,\"#7201a8\"],[0.3333333333333333,\"#9c179e\"],[0.4444444444444444,\"#bd3786\"],[0.5555555555555556,\"#d8576b\"],[0.6666666666666666,\"#ed7953\"],[0.7777777777777778,\"#fb9f3a\"],[0.8888888888888888,\"#fdca26\"],[1.0,\"#f0f921\"]]}],\"surface\":[{\"type\":\"surface\",\"colorbar\":{\"outlinewidth\":0,\"ticks\":\"\"},\"colorscale\":[[0.0,\"#0d0887\"],[0.1111111111111111,\"#46039f\"],[0.2222222222222222,\"#7201a8\"],[0.3333333333333333,\"#9c179e\"],[0.4444444444444444,\"#bd3786\"],[0.5555555555555556,\"#d8576b\"],[0.6666666666666666,\"#ed7953\"],[0.7777777777777778,\"#fb9f3a\"],[0.8888888888888888,\"#fdca26\"],[1.0,\"#f0f921\"]]}],\"mesh3d\":[{\"type\":\"mesh3d\",\"colorbar\":{\"outlinewidth\":0,\"ticks\":\"\"}}],\"scatter\":[{\"fillpattern\":{\"fillmode\":\"overlay\",\"size\":10,\"solidity\":0.2},\"type\":\"scatter\"}],\"parcoords\":[{\"type\":\"parcoords\",\"line\":{\"colorbar\":{\"outlinewidth\":0,\"ticks\":\"\"}}}],\"scatterpolargl\":[{\"type\":\"scatterpolargl\",\"marker\":{\"colorbar\":{\"outlinewidth\":0,\"ticks\":\"\"}}}],\"bar\":[{\"error_x\":{\"color\":\"#2a3f5f\"},\"error_y\":{\"color\":\"#2a3f5f\"},\"marker\":{\"line\":{\"color\":\"#E5ECF6\",\"width\":0.5},\"pattern\":{\"fillmode\":\"overlay\",\"size\":10,\"solidity\":0.2}},\"type\":\"bar\"}],\"scattergeo\":[{\"type\":\"scattergeo\",\"marker\":{\"colorbar\":{\"outlinewidth\":0,\"ticks\":\"\"}}}],\"scatterpolar\":[{\"type\":\"scatterpolar\",\"marker\":{\"colorbar\":{\"outlinewidth\":0,\"ticks\":\"\"}}}],\"histogram\":[{\"marker\":{\"pattern\":{\"fillmode\":\"overlay\",\"size\":10,\"solidity\":0.2}},\"type\":\"histogram\"}],\"scattergl\":[{\"type\":\"scattergl\",\"marker\":{\"colorbar\":{\"outlinewidth\":0,\"ticks\":\"\"}}}],\"scatter3d\":[{\"type\":\"scatter3d\",\"line\":{\"colorbar\":{\"outlinewidth\":0,\"ticks\":\"\"}},\"marker\":{\"colorbar\":{\"outlinewidth\":0,\"ticks\":\"\"}}}],\"scattermapbox\":[{\"type\":\"scattermapbox\",\"marker\":{\"colorbar\":{\"outlinewidth\":0,\"ticks\":\"\"}}}],\"scatterternary\":[{\"type\":\"scatterternary\",\"marker\":{\"colorbar\":{\"outlinewidth\":0,\"ticks\":\"\"}}}],\"scattercarpet\":[{\"type\":\"scattercarpet\",\"marker\":{\"colorbar\":{\"outlinewidth\":0,\"ticks\":\"\"}}}],\"carpet\":[{\"aaxis\":{\"endlinecolor\":\"#2a3f5f\",\"gridcolor\":\"white\",\"linecolor\":\"white\",\"minorgridcolor\":\"white\",\"startlinecolor\":\"#2a3f5f\"},\"baxis\":{\"endlinecolor\":\"#2a3f5f\",\"gridcolor\":\"white\",\"linecolor\":\"white\",\"minorgridcolor\":\"white\",\"startlinecolor\":\"#2a3f5f\"},\"type\":\"carpet\"}],\"table\":[{\"cells\":{\"fill\":{\"color\":\"#EBF0F8\"},\"line\":{\"color\":\"white\"}},\"header\":{\"fill\":{\"color\":\"#C8D4E3\"},\"line\":{\"color\":\"white\"}},\"type\":\"table\"}],\"barpolar\":[{\"marker\":{\"line\":{\"color\":\"#E5ECF6\",\"width\":0.5},\"pattern\":{\"fillmode\":\"overlay\",\"size\":10,\"solidity\":0.2}},\"type\":\"barpolar\"}],\"pie\":[{\"automargin\":true,\"type\":\"pie\"}]},\"layout\":{\"autotypenumbers\":\"strict\",\"colorway\":[\"#636efa\",\"#EF553B\",\"#00cc96\",\"#ab63fa\",\"#FFA15A\",\"#19d3f3\",\"#FF6692\",\"#B6E880\",\"#FF97FF\",\"#FECB52\"],\"font\":{\"color\":\"#2a3f5f\"},\"hovermode\":\"closest\",\"hoverlabel\":{\"align\":\"left\"},\"paper_bgcolor\":\"white\",\"plot_bgcolor\":\"#E5ECF6\",\"polar\":{\"bgcolor\":\"#E5ECF6\",\"angularaxis\":{\"gridcolor\":\"white\",\"linecolor\":\"white\",\"ticks\":\"\"},\"radialaxis\":{\"gridcolor\":\"white\",\"linecolor\":\"white\",\"ticks\":\"\"}},\"ternary\":{\"bgcolor\":\"#E5ECF6\",\"aaxis\":{\"gridcolor\":\"white\",\"linecolor\":\"white\",\"ticks\":\"\"},\"baxis\":{\"gridcolor\":\"white\",\"linecolor\":\"white\",\"ticks\":\"\"},\"caxis\":{\"gridcolor\":\"white\",\"linecolor\":\"white\",\"ticks\":\"\"}},\"coloraxis\":{\"colorbar\":{\"outlinewidth\":0,\"ticks\":\"\"}},\"colorscale\":{\"sequential\":[[0.0,\"#0d0887\"],[0.1111111111111111,\"#46039f\"],[0.2222222222222222,\"#7201a8\"],[0.3333333333333333,\"#9c179e\"],[0.4444444444444444,\"#bd3786\"],[0.5555555555555556,\"#d8576b\"],[0.6666666666666666,\"#ed7953\"],[0.7777777777777778,\"#fb9f3a\"],[0.8888888888888888,\"#fdca26\"],[1.0,\"#f0f921\"]],\"sequentialminus\":[[0.0,\"#0d0887\"],[0.1111111111111111,\"#46039f\"],[0.2222222222222222,\"#7201a8\"],[0.3333333333333333,\"#9c179e\"],[0.4444444444444444,\"#bd3786\"],[0.5555555555555556,\"#d8576b\"],[0.6666666666666666,\"#ed7953\"],[0.7777777777777778,\"#fb9f3a\"],[0.8888888888888888,\"#fdca26\"],[1.0,\"#f0f921\"]],\"diverging\":[[0,\"#8e0152\"],[0.1,\"#c51b7d\"],[0.2,\"#de77ae\"],[0.3,\"#f1b6da\"],[0.4,\"#fde0ef\"],[0.5,\"#f7f7f7\"],[0.6,\"#e6f5d0\"],[0.7,\"#b8e186\"],[0.8,\"#7fbc41\"],[0.9,\"#4d9221\"],[1,\"#276419\"]]},\"xaxis\":{\"gridcolor\":\"white\",\"linecolor\":\"white\",\"ticks\":\"\",\"title\":{\"standoff\":15},\"zerolinecolor\":\"white\",\"automargin\":true,\"zerolinewidth\":2},\"yaxis\":{\"gridcolor\":\"white\",\"linecolor\":\"white\",\"ticks\":\"\",\"title\":{\"standoff\":15},\"zerolinecolor\":\"white\",\"automargin\":true,\"zerolinewidth\":2},\"scene\":{\"xaxis\":{\"backgroundcolor\":\"#E5ECF6\",\"gridcolor\":\"white\",\"linecolor\":\"white\",\"showbackground\":true,\"ticks\":\"\",\"zerolinecolor\":\"white\",\"gridwidth\":2},\"yaxis\":{\"backgroundcolor\":\"#E5ECF6\",\"gridcolor\":\"white\",\"linecolor\":\"white\",\"showbackground\":true,\"ticks\":\"\",\"zerolinecolor\":\"white\",\"gridwidth\":2},\"zaxis\":{\"backgroundcolor\":\"#E5ECF6\",\"gridcolor\":\"white\",\"linecolor\":\"white\",\"showbackground\":true,\"ticks\":\"\",\"zerolinecolor\":\"white\",\"gridwidth\":2}},\"shapedefaults\":{\"line\":{\"color\":\"#2a3f5f\"}},\"annotationdefaults\":{\"arrowcolor\":\"#2a3f5f\",\"arrowhead\":0,\"arrowwidth\":1},\"geo\":{\"bgcolor\":\"white\",\"landcolor\":\"#E5ECF6\",\"subunitcolor\":\"white\",\"showland\":true,\"showlakes\":true,\"lakecolor\":\"white\"},\"title\":{\"x\":0.05},\"mapbox\":{\"style\":\"light\"}}},\"xaxis\":{\"anchor\":\"y\",\"domain\":[0.0,1.0],\"title\":{\"text\":\"Date\"}},\"yaxis\":{\"anchor\":\"x\",\"domain\":[0.0,1.0],\"title\":{\"text\":\"Predictions\"}},\"legend\":{\"tracegroupgap\":0},\"title\":{\"text\":\"NINO3.4 temperature predictions\"},\"shapes\":[{\"line\":{\"color\":\"red\",\"dash\":\"dot\"},\"type\":\"line\",\"x0\":0,\"x1\":1,\"xref\":\"x domain\",\"y0\":28,\"y1\":28,\"yref\":\"y\"}],\"annotations\":[{\"showarrow\":false,\"text\":\"+28\",\"x\":1,\"xanchor\":\"right\",\"xref\":\"x domain\",\"y\":28,\"yanchor\":\"bottom\",\"yref\":\"y\"}]},                        {\"responsive\": true}                    ).then(function(){\n",
              "                            \n",
              "var gd = document.getElementById('7529b024-36dc-459f-8328-3131d63f1cfc');\n",
              "var x = new MutationObserver(function (mutations, observer) {{\n",
              "        var display = window.getComputedStyle(gd).display;\n",
              "        if (!display || display === 'none') {{\n",
              "            console.log([gd, 'removed!']);\n",
              "            Plotly.purge(gd);\n",
              "            observer.disconnect();\n",
              "        }}\n",
              "}});\n",
              "\n",
              "// Listen for the removal of the full notebook cells\n",
              "var notebookContainer = gd.closest('#notebook-container');\n",
              "if (notebookContainer) {{\n",
              "    x.observe(notebookContainer, {childList: true});\n",
              "}}\n",
              "\n",
              "// Listen for the clearing of the current output cell\n",
              "var outputEl = gd.closest('.output');\n",
              "if (outputEl) {{\n",
              "    x.observe(outputEl, {childList: true});\n",
              "}}\n",
              "\n",
              "                        })                };                            </script>        </div>\n",
              "</body>\n",
              "</html>"
            ]
          },
          "metadata": {}
        }
      ]
    },
    {
      "cell_type": "markdown",
      "source": [
        "# **Anomalys**"
      ],
      "metadata": {
        "id": "Zjny-yuBAadV"
      }
    },
    {
      "cell_type": "code",
      "source": [
        "dfa"
      ],
      "metadata": {
        "colab": {
          "base_uri": "https://localhost:8080/",
          "height": 455
        },
        "outputId": "e637c9df-78cd-418e-a3b3-5cb40d623148",
        "id": "RRYlTsWMAlyJ"
      },
      "execution_count": null,
      "outputs": [
        {
          "output_type": "execute_result",
          "data": {
            "text/plain": [
              "            YEAR  Month   ANOM3.4\n",
              "Date                             \n",
              "1982-02-01  1982      2 -0.153391\n",
              "1982-03-01  1982      3 -0.081545\n",
              "1982-04-01  1982      4  0.110044\n",
              "1982-05-01  1982      5  0.672838\n",
              "1982-06-01  1982      6  0.864428\n",
              "...          ...    ...       ...\n",
              "2023-05-01  2023      5  0.648890\n",
              "2023-06-01  2023      6  1.139838\n",
              "2023-07-01  2023      7  1.367350\n",
              "2023-08-01  2023      8  1.642760\n",
              "2023-09-01  2023      9  1.918170\n",
              "\n",
              "[500 rows x 3 columns]"
            ],
            "text/html": [
              "\n",
              "  <div id=\"df-d8c6523c-6b08-4099-abbf-36bcf3a2afc8\" class=\"colab-df-container\">\n",
              "    <div>\n",
              "<style scoped>\n",
              "    .dataframe tbody tr th:only-of-type {\n",
              "        vertical-align: middle;\n",
              "    }\n",
              "\n",
              "    .dataframe tbody tr th {\n",
              "        vertical-align: top;\n",
              "    }\n",
              "\n",
              "    .dataframe thead th {\n",
              "        text-align: right;\n",
              "    }\n",
              "</style>\n",
              "<table border=\"1\" class=\"dataframe\">\n",
              "  <thead>\n",
              "    <tr style=\"text-align: right;\">\n",
              "      <th></th>\n",
              "      <th>YEAR</th>\n",
              "      <th>Month</th>\n",
              "      <th>ANOM3.4</th>\n",
              "    </tr>\n",
              "    <tr>\n",
              "      <th>Date</th>\n",
              "      <th></th>\n",
              "      <th></th>\n",
              "      <th></th>\n",
              "    </tr>\n",
              "  </thead>\n",
              "  <tbody>\n",
              "    <tr>\n",
              "      <th>1982-02-01</th>\n",
              "      <td>1982</td>\n",
              "      <td>2</td>\n",
              "      <td>-0.153391</td>\n",
              "    </tr>\n",
              "    <tr>\n",
              "      <th>1982-03-01</th>\n",
              "      <td>1982</td>\n",
              "      <td>3</td>\n",
              "      <td>-0.081545</td>\n",
              "    </tr>\n",
              "    <tr>\n",
              "      <th>1982-04-01</th>\n",
              "      <td>1982</td>\n",
              "      <td>4</td>\n",
              "      <td>0.110044</td>\n",
              "    </tr>\n",
              "    <tr>\n",
              "      <th>1982-05-01</th>\n",
              "      <td>1982</td>\n",
              "      <td>5</td>\n",
              "      <td>0.672838</td>\n",
              "    </tr>\n",
              "    <tr>\n",
              "      <th>1982-06-01</th>\n",
              "      <td>1982</td>\n",
              "      <td>6</td>\n",
              "      <td>0.864428</td>\n",
              "    </tr>\n",
              "    <tr>\n",
              "      <th>...</th>\n",
              "      <td>...</td>\n",
              "      <td>...</td>\n",
              "      <td>...</td>\n",
              "    </tr>\n",
              "    <tr>\n",
              "      <th>2023-05-01</th>\n",
              "      <td>2023</td>\n",
              "      <td>5</td>\n",
              "      <td>0.648890</td>\n",
              "    </tr>\n",
              "    <tr>\n",
              "      <th>2023-06-01</th>\n",
              "      <td>2023</td>\n",
              "      <td>6</td>\n",
              "      <td>1.139838</td>\n",
              "    </tr>\n",
              "    <tr>\n",
              "      <th>2023-07-01</th>\n",
              "      <td>2023</td>\n",
              "      <td>7</td>\n",
              "      <td>1.367350</td>\n",
              "    </tr>\n",
              "    <tr>\n",
              "      <th>2023-08-01</th>\n",
              "      <td>2023</td>\n",
              "      <td>8</td>\n",
              "      <td>1.642760</td>\n",
              "    </tr>\n",
              "    <tr>\n",
              "      <th>2023-09-01</th>\n",
              "      <td>2023</td>\n",
              "      <td>9</td>\n",
              "      <td>1.918170</td>\n",
              "    </tr>\n",
              "  </tbody>\n",
              "</table>\n",
              "<p>500 rows × 3 columns</p>\n",
              "</div>\n",
              "    <div class=\"colab-df-buttons\">\n",
              "\n",
              "  <div class=\"colab-df-container\">\n",
              "    <button class=\"colab-df-convert\" onclick=\"convertToInteractive('df-d8c6523c-6b08-4099-abbf-36bcf3a2afc8')\"\n",
              "            title=\"Convert this dataframe to an interactive table.\"\n",
              "            style=\"display:none;\">\n",
              "\n",
              "  <svg xmlns=\"http://www.w3.org/2000/svg\" height=\"24px\" viewBox=\"0 -960 960 960\">\n",
              "    <path d=\"M120-120v-720h720v720H120Zm60-500h600v-160H180v160Zm220 220h160v-160H400v160Zm0 220h160v-160H400v160ZM180-400h160v-160H180v160Zm440 0h160v-160H620v160ZM180-180h160v-160H180v160Zm440 0h160v-160H620v160Z\"/>\n",
              "  </svg>\n",
              "    </button>\n",
              "\n",
              "  <style>\n",
              "    .colab-df-container {\n",
              "      display:flex;\n",
              "      gap: 12px;\n",
              "    }\n",
              "\n",
              "    .colab-df-convert {\n",
              "      background-color: #E8F0FE;\n",
              "      border: none;\n",
              "      border-radius: 50%;\n",
              "      cursor: pointer;\n",
              "      display: none;\n",
              "      fill: #1967D2;\n",
              "      height: 32px;\n",
              "      padding: 0 0 0 0;\n",
              "      width: 32px;\n",
              "    }\n",
              "\n",
              "    .colab-df-convert:hover {\n",
              "      background-color: #E2EBFA;\n",
              "      box-shadow: 0px 1px 2px rgba(60, 64, 67, 0.3), 0px 1px 3px 1px rgba(60, 64, 67, 0.15);\n",
              "      fill: #174EA6;\n",
              "    }\n",
              "\n",
              "    .colab-df-buttons div {\n",
              "      margin-bottom: 4px;\n",
              "    }\n",
              "\n",
              "    [theme=dark] .colab-df-convert {\n",
              "      background-color: #3B4455;\n",
              "      fill: #D2E3FC;\n",
              "    }\n",
              "\n",
              "    [theme=dark] .colab-df-convert:hover {\n",
              "      background-color: #434B5C;\n",
              "      box-shadow: 0px 1px 3px 1px rgba(0, 0, 0, 0.15);\n",
              "      filter: drop-shadow(0px 1px 2px rgba(0, 0, 0, 0.3));\n",
              "      fill: #FFFFFF;\n",
              "    }\n",
              "  </style>\n",
              "\n",
              "    <script>\n",
              "      const buttonEl =\n",
              "        document.querySelector('#df-d8c6523c-6b08-4099-abbf-36bcf3a2afc8 button.colab-df-convert');\n",
              "      buttonEl.style.display =\n",
              "        google.colab.kernel.accessAllowed ? 'block' : 'none';\n",
              "\n",
              "      async function convertToInteractive(key) {\n",
              "        const element = document.querySelector('#df-d8c6523c-6b08-4099-abbf-36bcf3a2afc8');\n",
              "        const dataTable =\n",
              "          await google.colab.kernel.invokeFunction('convertToInteractive',\n",
              "                                                    [key], {});\n",
              "        if (!dataTable) return;\n",
              "\n",
              "        const docLinkHtml = 'Like what you see? Visit the ' +\n",
              "          '<a target=\"_blank\" href=https://colab.research.google.com/notebooks/data_table.ipynb>data table notebook</a>'\n",
              "          + ' to learn more about interactive tables.';\n",
              "        element.innerHTML = '';\n",
              "        dataTable['output_type'] = 'display_data';\n",
              "        await google.colab.output.renderOutput(dataTable, element);\n",
              "        const docLink = document.createElement('div');\n",
              "        docLink.innerHTML = docLinkHtml;\n",
              "        element.appendChild(docLink);\n",
              "      }\n",
              "    </script>\n",
              "  </div>\n",
              "\n",
              "\n",
              "<div id=\"df-3320c2bc-b5e3-4767-bf9b-4458d3d0b382\">\n",
              "  <button class=\"colab-df-quickchart\" onclick=\"quickchart('df-3320c2bc-b5e3-4767-bf9b-4458d3d0b382')\"\n",
              "            title=\"Suggest charts.\"\n",
              "            style=\"display:none;\">\n",
              "\n",
              "<svg xmlns=\"http://www.w3.org/2000/svg\" height=\"24px\"viewBox=\"0 0 24 24\"\n",
              "     width=\"24px\">\n",
              "    <g>\n",
              "        <path d=\"M19 3H5c-1.1 0-2 .9-2 2v14c0 1.1.9 2 2 2h14c1.1 0 2-.9 2-2V5c0-1.1-.9-2-2-2zM9 17H7v-7h2v7zm4 0h-2V7h2v10zm4 0h-2v-4h2v4z\"/>\n",
              "    </g>\n",
              "</svg>\n",
              "  </button>\n",
              "\n",
              "<style>\n",
              "  .colab-df-quickchart {\n",
              "      --bg-color: #E8F0FE;\n",
              "      --fill-color: #1967D2;\n",
              "      --hover-bg-color: #E2EBFA;\n",
              "      --hover-fill-color: #174EA6;\n",
              "      --disabled-fill-color: #AAA;\n",
              "      --disabled-bg-color: #DDD;\n",
              "  }\n",
              "\n",
              "  [theme=dark] .colab-df-quickchart {\n",
              "      --bg-color: #3B4455;\n",
              "      --fill-color: #D2E3FC;\n",
              "      --hover-bg-color: #434B5C;\n",
              "      --hover-fill-color: #FFFFFF;\n",
              "      --disabled-bg-color: #3B4455;\n",
              "      --disabled-fill-color: #666;\n",
              "  }\n",
              "\n",
              "  .colab-df-quickchart {\n",
              "    background-color: var(--bg-color);\n",
              "    border: none;\n",
              "    border-radius: 50%;\n",
              "    cursor: pointer;\n",
              "    display: none;\n",
              "    fill: var(--fill-color);\n",
              "    height: 32px;\n",
              "    padding: 0;\n",
              "    width: 32px;\n",
              "  }\n",
              "\n",
              "  .colab-df-quickchart:hover {\n",
              "    background-color: var(--hover-bg-color);\n",
              "    box-shadow: 0 1px 2px rgba(60, 64, 67, 0.3), 0 1px 3px 1px rgba(60, 64, 67, 0.15);\n",
              "    fill: var(--button-hover-fill-color);\n",
              "  }\n",
              "\n",
              "  .colab-df-quickchart-complete:disabled,\n",
              "  .colab-df-quickchart-complete:disabled:hover {\n",
              "    background-color: var(--disabled-bg-color);\n",
              "    fill: var(--disabled-fill-color);\n",
              "    box-shadow: none;\n",
              "  }\n",
              "\n",
              "  .colab-df-spinner {\n",
              "    border: 2px solid var(--fill-color);\n",
              "    border-color: transparent;\n",
              "    border-bottom-color: var(--fill-color);\n",
              "    animation:\n",
              "      spin 1s steps(1) infinite;\n",
              "  }\n",
              "\n",
              "  @keyframes spin {\n",
              "    0% {\n",
              "      border-color: transparent;\n",
              "      border-bottom-color: var(--fill-color);\n",
              "      border-left-color: var(--fill-color);\n",
              "    }\n",
              "    20% {\n",
              "      border-color: transparent;\n",
              "      border-left-color: var(--fill-color);\n",
              "      border-top-color: var(--fill-color);\n",
              "    }\n",
              "    30% {\n",
              "      border-color: transparent;\n",
              "      border-left-color: var(--fill-color);\n",
              "      border-top-color: var(--fill-color);\n",
              "      border-right-color: var(--fill-color);\n",
              "    }\n",
              "    40% {\n",
              "      border-color: transparent;\n",
              "      border-right-color: var(--fill-color);\n",
              "      border-top-color: var(--fill-color);\n",
              "    }\n",
              "    60% {\n",
              "      border-color: transparent;\n",
              "      border-right-color: var(--fill-color);\n",
              "    }\n",
              "    80% {\n",
              "      border-color: transparent;\n",
              "      border-right-color: var(--fill-color);\n",
              "      border-bottom-color: var(--fill-color);\n",
              "    }\n",
              "    90% {\n",
              "      border-color: transparent;\n",
              "      border-bottom-color: var(--fill-color);\n",
              "    }\n",
              "  }\n",
              "</style>\n",
              "\n",
              "  <script>\n",
              "    async function quickchart(key) {\n",
              "      const quickchartButtonEl =\n",
              "        document.querySelector('#' + key + ' button');\n",
              "      quickchartButtonEl.disabled = true;  // To prevent multiple clicks.\n",
              "      quickchartButtonEl.classList.add('colab-df-spinner');\n",
              "      try {\n",
              "        const charts = await google.colab.kernel.invokeFunction(\n",
              "            'suggestCharts', [key], {});\n",
              "      } catch (error) {\n",
              "        console.error('Error during call to suggestCharts:', error);\n",
              "      }\n",
              "      quickchartButtonEl.classList.remove('colab-df-spinner');\n",
              "      quickchartButtonEl.classList.add('colab-df-quickchart-complete');\n",
              "    }\n",
              "    (() => {\n",
              "      let quickchartButtonEl =\n",
              "        document.querySelector('#df-3320c2bc-b5e3-4767-bf9b-4458d3d0b382 button');\n",
              "      quickchartButtonEl.style.display =\n",
              "        google.colab.kernel.accessAllowed ? 'block' : 'none';\n",
              "    })();\n",
              "  </script>\n",
              "</div>\n",
              "    </div>\n",
              "  </div>\n"
            ]
          },
          "metadata": {},
          "execution_count": 51
        }
      ]
    },
    {
      "cell_type": "code",
      "source": [
        "# Preprocesar los datos\n",
        "# Agregar una columna \"Date\" que combine Year y Month para tener una fecha\n",
        "dfa['Date'] = pd.to_datetime(dfa[['YEAR', 'Month']].assign(day=1))\n",
        "# Seleccionar la columna \"Date\" como índice\n",
        "dfa.set_index('Date', inplace=True)\n",
        "# Normalizar los valores de las temperaturas en la zona  NIÑO3.4\n",
        "ANOM34_mean = dfa['ANOM3.4'].mean()\n",
        "ANOM34_std = dfa['ANOM3.4'].std()\n",
        "dfa['ANOM3.4'] = (dfa['ANOM3.4'] - ANOM34_mean) / ANOM34_std\n"
      ],
      "metadata": {
        "id": "NFSZ5MGUAlyL"
      },
      "execution_count": null,
      "outputs": []
    },
    {
      "cell_type": "code",
      "source": [
        "dfa['ANOM3.4']"
      ],
      "metadata": {
        "colab": {
          "base_uri": "https://localhost:8080/"
        },
        "id": "goMiLYaaEEn6",
        "outputId": "3a3910c6-52f3-433a-f1ac-66f0bbe0b141"
      },
      "execution_count": null,
      "outputs": [
        {
          "output_type": "execute_result",
          "data": {
            "text/plain": [
              "Date\n",
              "1982-02-01   -0.153391\n",
              "1982-03-01   -0.081545\n",
              "1982-04-01    0.110044\n",
              "1982-05-01    0.672838\n",
              "1982-06-01    0.864428\n",
              "                ...   \n",
              "2023-05-01    0.648890\n",
              "2023-06-01    1.139838\n",
              "2023-07-01    1.367350\n",
              "2023-08-01    1.642760\n",
              "2023-09-01    1.918170\n",
              "Name: ANOM3.4, Length: 500, dtype: float64"
            ]
          },
          "metadata": {},
          "execution_count": 53
        }
      ]
    },
    {
      "cell_type": "code",
      "source": [
        "# Crear secuencias de datos de entrenamiento\n",
        "sequence_length = 12  # Usar un año de datos para predecir el siguiente\n",
        "sequences = []\n",
        "for i in range(len(dfa) - sequence_length):\n",
        "    sequence = dfa['ANOM3.4'].iloc[i:i + sequence_length].values\n",
        "    target = dfa['ANOM3.4'].iloc[i + sequence_length]\n",
        "    sequences.append((sequence, target))"
      ],
      "metadata": {
        "id": "Ehxm6krmAlyN"
      },
      "execution_count": null,
      "outputs": []
    },
    {
      "cell_type": "code",
      "source": [
        "# Dividir los datos en conjuntos de entrenamiento y prueba\n",
        "train_size = int(0.8 * len(sequences))\n",
        "train_data = sequences[:train_size]\n",
        "test_data = sequences[train_size:]"
      ],
      "metadata": {
        "id": "DwK9wpB3AlyN"
      },
      "execution_count": null,
      "outputs": []
    },
    {
      "cell_type": "code",
      "source": [
        "# Definir una clase de modelo RNN simple\n",
        "class ANOM34Model(nn.Module):\n",
        "    def __init__(self, input_size, hidden_size, num_layers):\n",
        "        super(ANOM34Model, self).__init__()\n",
        "        self.hidden_size = hidden_size\n",
        "        self.num_layers = num_layers\n",
        "        self.lstm = nn.LSTM(input_size, hidden_size, num_layers, batch_first=True)\n",
        "        self.fc = nn.Linear(hidden_size, 1)\n",
        "\n",
        "    def forward(self, x):\n",
        "        h0 = Variable(torch.zeros(self.num_layers, x.size(0), self.hidden_size))\n",
        "        c0 = Variable(torch.zeros(self.num_layers, x.size(0), self.hidden_size))\n",
        "        out, _ = self.lstm(x, (h0, c0))\n",
        "        out = self.fc(out[:, -1, :])\n",
        "        return out\n"
      ],
      "metadata": {
        "id": "JGIwuMS2AlyO"
      },
      "execution_count": null,
      "outputs": []
    },
    {
      "cell_type": "code",
      "source": [
        "# Crear el modelo\n",
        "input_size = 1  # Solo se predice el valor la temperatura en la zona NINO34\n",
        "hidden_size = 64\n",
        "num_layers = 2\n",
        "model = ANOM34Model(input_size, hidden_size, num_layers)\n"
      ],
      "metadata": {
        "id": "cZrKvKrGAlyP"
      },
      "execution_count": null,
      "outputs": []
    },
    {
      "cell_type": "code",
      "source": [
        "# Función de pérdida y optimizador\n",
        "criterion = nn.MSELoss()\n",
        "optimizer = torch.optim.Adam(model.parameters(), lr=0.001)"
      ],
      "metadata": {
        "id": "K0RciBX0AlyQ"
      },
      "execution_count": null,
      "outputs": []
    },
    {
      "cell_type": "code",
      "source": [
        "# Entrenar el modelo\n",
        "num_epochs = 100\n",
        "for epoch in range(num_epochs):\n",
        "    for sequence, target in train_data:\n",
        "        sequence = np.reshape(sequence, (1, sequence_length, 1))\n",
        "        sequence = Variable(torch.Tensor(sequence))\n",
        "        target = Variable(torch.Tensor(np.array([target])))\n",
        "\n",
        "        # Forward pass\n",
        "        outputs = model(sequence)\n",
        "        loss = criterion(outputs, target)\n",
        "\n",
        "        # Backward pass y optimización\n",
        "        optimizer.zero_grad()\n",
        "        loss.backward()\n",
        "        optimizer.step()\n",
        "\n",
        "    if (epoch + 1) % 10 == 0:\n",
        "        print(f'Epoch [{epoch + 1}/{num_epochs}], Loss: {loss.item():.4f}')"
      ],
      "metadata": {
        "colab": {
          "base_uri": "https://localhost:8080/"
        },
        "outputId": "d37da3c0-23d2-4947-d5ce-c426384198e6",
        "id": "OuBlliLwAlyR"
      },
      "execution_count": null,
      "outputs": [
        {
          "output_type": "stream",
          "name": "stdout",
          "text": [
            "Epoch [10/100], Loss: 0.0008\n",
            "Epoch [20/100], Loss: 0.0023\n",
            "Epoch [30/100], Loss: 0.0070\n",
            "Epoch [40/100], Loss: 0.0022\n",
            "Epoch [50/100], Loss: 0.0093\n",
            "Epoch [60/100], Loss: 0.0003\n",
            "Epoch [70/100], Loss: 0.0001\n",
            "Epoch [80/100], Loss: 0.0052\n",
            "Epoch [90/100], Loss: 0.0024\n",
            "Epoch [100/100], Loss: 0.0114\n"
          ]
        }
      ]
    },
    {
      "cell_type": "code",
      "source": [
        "# Evaluar el modelo en el conjunto de prueba\n",
        "model.eval()\n",
        "test_losses = []\n",
        "with torch.no_grad():\n",
        "    for sequence, target in test_data:\n",
        "        sequence = np.reshape(sequence, (1, sequence_length, 1))\n",
        "        sequence = Variable(torch.Tensor(sequence))\n",
        "        target = Variable(torch.Tensor(np.array([target])))\n",
        "\n",
        "        outputs = model(sequence)\n",
        "        loss = criterion(outputs, target)\n",
        "        test_losses.append(loss.item())\n",
        "\n",
        "average_test_loss = np.mean(test_losses)\n",
        "print(f'Loss mean in the test set: {average_test_loss:.4f}')\n"
      ],
      "metadata": {
        "colab": {
          "base_uri": "https://localhost:8080/"
        },
        "outputId": "459935f6-ea3b-4fd4-8012-99cf40b69285",
        "id": "JTwqj2toAlyR"
      },
      "execution_count": null,
      "outputs": [
        {
          "output_type": "stream",
          "name": "stdout",
          "text": [
            "Loss mean in the test set: 0.1632\n"
          ]
        }
      ]
    },
    {
      "cell_type": "code",
      "source": [
        "# Predecir los valores de las anomalias en la zona NIÑO3.4 para los próximos 8 años\n",
        "future_predictions = []\n",
        "last_sequence = test_data[-1][0]\n",
        "for i in range(8 * 12):\n",
        "    sequence = np.reshape(last_sequence, (1, sequence_length, 1))\n",
        "    sequence = Variable(torch.Tensor(sequence))\n",
        "    prediction = model(sequence)\n",
        "    future_predictions.append(prediction.item())\n",
        "    last_sequence = np.append(last_sequence[1:], prediction.item())"
      ],
      "metadata": {
        "id": "sJvzd9NfAlyS"
      },
      "execution_count": null,
      "outputs": []
    },
    {
      "cell_type": "code",
      "source": [
        "# Desnormalizar las predicciones\n",
        "future_predictions = np.array(future_predictions) * ANOM34_std + ANOM34_mean\n"
      ],
      "metadata": {
        "id": "1SyAcW66AlyS"
      },
      "execution_count": null,
      "outputs": []
    },
    {
      "cell_type": "code",
      "source": [
        "# Imprimir las predicciones para los próximos 8 años\n",
        "for i, prediction in enumerate(future_predictions):\n",
        "    print(f'YEAR {i // 12 + 1}, Month {i % 12 + 1}: Prediction Anomalys = {prediction:.4f}')"
      ],
      "metadata": {
        "colab": {
          "base_uri": "https://localhost:8080/"
        },
        "outputId": "c29e6518-cd90-46ce-dc28-87bdeebc8cb4",
        "id": "luwhhdh5AlyT"
      },
      "execution_count": null,
      "outputs": [
        {
          "output_type": "stream",
          "name": "stdout",
          "text": [
            "YEAR 1, Month 1: Prediction Anomalys = 1.3369\n",
            "YEAR 1, Month 2: Prediction Anomalys = 1.1242\n",
            "YEAR 1, Month 3: Prediction Anomalys = 1.3818\n",
            "YEAR 1, Month 4: Prediction Anomalys = 1.3012\n",
            "YEAR 1, Month 5: Prediction Anomalys = 1.2949\n",
            "YEAR 1, Month 6: Prediction Anomalys = 0.9774\n",
            "YEAR 1, Month 7: Prediction Anomalys = 0.5820\n",
            "YEAR 1, Month 8: Prediction Anomalys = 0.3196\n",
            "YEAR 1, Month 9: Prediction Anomalys = -0.0097\n",
            "YEAR 1, Month 10: Prediction Anomalys = -0.2748\n",
            "YEAR 1, Month 11: Prediction Anomalys = -0.2338\n",
            "YEAR 1, Month 12: Prediction Anomalys = -0.4075\n",
            "YEAR 2, Month 1: Prediction Anomalys = -0.3421\n",
            "YEAR 2, Month 2: Prediction Anomalys = -0.5442\n",
            "YEAR 2, Month 3: Prediction Anomalys = -0.6332\n",
            "YEAR 2, Month 4: Prediction Anomalys = -0.9403\n",
            "YEAR 2, Month 5: Prediction Anomalys = -1.2919\n",
            "YEAR 2, Month 6: Prediction Anomalys = -1.4866\n",
            "YEAR 2, Month 7: Prediction Anomalys = -1.5520\n",
            "YEAR 2, Month 8: Prediction Anomalys = -1.4483\n",
            "YEAR 2, Month 9: Prediction Anomalys = -1.2710\n",
            "YEAR 2, Month 10: Prediction Anomalys = -1.0583\n",
            "YEAR 2, Month 11: Prediction Anomalys = -0.8913\n",
            "YEAR 2, Month 12: Prediction Anomalys = -0.6505\n",
            "YEAR 3, Month 1: Prediction Anomalys = -0.4699\n",
            "YEAR 3, Month 2: Prediction Anomalys = -0.1118\n",
            "YEAR 3, Month 3: Prediction Anomalys = -0.0258\n",
            "YEAR 3, Month 4: Prediction Anomalys = -0.1911\n",
            "YEAR 3, Month 5: Prediction Anomalys = -0.3983\n",
            "YEAR 3, Month 6: Prediction Anomalys = -0.5756\n",
            "YEAR 3, Month 7: Prediction Anomalys = -0.7051\n",
            "YEAR 3, Month 8: Prediction Anomalys = -0.7269\n",
            "YEAR 3, Month 9: Prediction Anomalys = -0.5933\n",
            "YEAR 3, Month 10: Prediction Anomalys = -0.4569\n",
            "YEAR 3, Month 11: Prediction Anomalys = -0.4626\n",
            "YEAR 3, Month 12: Prediction Anomalys = -0.2629\n",
            "YEAR 4, Month 1: Prediction Anomalys = 0.2572\n",
            "YEAR 4, Month 2: Prediction Anomalys = 0.7325\n",
            "YEAR 4, Month 3: Prediction Anomalys = 1.0829\n",
            "YEAR 4, Month 4: Prediction Anomalys = 1.3631\n",
            "YEAR 4, Month 5: Prediction Anomalys = 1.1854\n",
            "YEAR 4, Month 6: Prediction Anomalys = 0.9196\n",
            "YEAR 4, Month 7: Prediction Anomalys = 1.3186\n",
            "YEAR 4, Month 8: Prediction Anomalys = 0.5626\n",
            "YEAR 4, Month 9: Prediction Anomalys = 0.2363\n",
            "YEAR 4, Month 10: Prediction Anomalys = -0.2672\n",
            "YEAR 4, Month 11: Prediction Anomalys = -0.2531\n",
            "YEAR 4, Month 12: Prediction Anomalys = -0.1792\n",
            "YEAR 5, Month 1: Prediction Anomalys = -0.2144\n",
            "YEAR 5, Month 2: Prediction Anomalys = -0.3268\n",
            "YEAR 5, Month 3: Prediction Anomalys = -0.6044\n",
            "YEAR 5, Month 4: Prediction Anomalys = -0.9083\n",
            "YEAR 5, Month 5: Prediction Anomalys = -1.0832\n",
            "YEAR 5, Month 6: Prediction Anomalys = -1.3197\n",
            "YEAR 5, Month 7: Prediction Anomalys = -1.3791\n",
            "YEAR 5, Month 8: Prediction Anomalys = -1.3386\n",
            "YEAR 5, Month 9: Prediction Anomalys = -1.3112\n",
            "YEAR 5, Month 10: Prediction Anomalys = -1.1805\n",
            "YEAR 5, Month 11: Prediction Anomalys = -0.9361\n",
            "YEAR 5, Month 12: Prediction Anomalys = -0.7749\n",
            "YEAR 6, Month 1: Prediction Anomalys = -0.5185\n",
            "YEAR 6, Month 2: Prediction Anomalys = -0.2144\n",
            "YEAR 6, Month 3: Prediction Anomalys = 0.0286\n",
            "YEAR 6, Month 4: Prediction Anomalys = -0.0945\n",
            "YEAR 6, Month 5: Prediction Anomalys = -0.2077\n",
            "YEAR 6, Month 6: Prediction Anomalys = -0.2719\n",
            "YEAR 6, Month 7: Prediction Anomalys = -0.5518\n",
            "YEAR 6, Month 8: Prediction Anomalys = -0.6760\n",
            "YEAR 6, Month 9: Prediction Anomalys = -0.6569\n",
            "YEAR 6, Month 10: Prediction Anomalys = -0.6916\n",
            "YEAR 6, Month 11: Prediction Anomalys = -0.6397\n",
            "YEAR 6, Month 12: Prediction Anomalys = -0.5257\n",
            "YEAR 7, Month 1: Prediction Anomalys = -0.2510\n",
            "YEAR 7, Month 2: Prediction Anomalys = 0.2132\n",
            "YEAR 7, Month 3: Prediction Anomalys = 0.6306\n",
            "YEAR 7, Month 4: Prediction Anomalys = 0.9333\n",
            "YEAR 7, Month 5: Prediction Anomalys = 1.1110\n",
            "YEAR 7, Month 6: Prediction Anomalys = 1.1380\n",
            "YEAR 7, Month 7: Prediction Anomalys = 1.3463\n",
            "YEAR 7, Month 8: Prediction Anomalys = 1.7383\n",
            "YEAR 7, Month 9: Prediction Anomalys = 1.7739\n",
            "YEAR 7, Month 10: Prediction Anomalys = 1.5820\n",
            "YEAR 7, Month 11: Prediction Anomalys = 1.2660\n",
            "YEAR 7, Month 12: Prediction Anomalys = 1.0848\n",
            "YEAR 8, Month 1: Prediction Anomalys = 0.5798\n",
            "YEAR 8, Month 2: Prediction Anomalys = 0.0356\n",
            "YEAR 8, Month 3: Prediction Anomalys = -0.2961\n",
            "YEAR 8, Month 4: Prediction Anomalys = -0.5196\n",
            "YEAR 8, Month 5: Prediction Anomalys = -0.6761\n",
            "YEAR 8, Month 6: Prediction Anomalys = -0.4382\n",
            "YEAR 8, Month 7: Prediction Anomalys = -0.0772\n",
            "YEAR 8, Month 8: Prediction Anomalys = 0.0734\n",
            "YEAR 8, Month 9: Prediction Anomalys = 0.2091\n",
            "YEAR 8, Month 10: Prediction Anomalys = 0.1496\n",
            "YEAR 8, Month 11: Prediction Anomalys = 0.2192\n",
            "YEAR 8, Month 12: Prediction Anomalys = 0.2532\n"
          ]
        }
      ]
    },
    {
      "cell_type": "code",
      "source": [
        "from sklearn.metrics import mean_squared_error\n",
        "\n",
        "# ...\n",
        "\n",
        "# Evaluar el modelo en el conjunto de prueba\n",
        "model.eval()\n",
        "test_losses = []\n",
        "true_values = []  # Almacena los valores reales\n",
        "predicted_values = []  # Almacena las predicciones\n",
        "\n",
        "with torch.no_grad():\n",
        "    for sequence, target in test_data:\n",
        "        sequence = np.reshape(sequence, (1, sequence_length, 1))\n",
        "        sequence = Variable(torch.Tensor(sequence))\n",
        "        target = Variable(torch.Tensor(np.array([target])))\n",
        "\n",
        "        outputs = model(sequence)\n",
        "        loss = criterion(outputs, target)\n",
        "        test_losses.append(loss.item())\n",
        "\n",
        "        # Almacenar valores reales y predicciones\n",
        "        true_values.append(target.item())\n",
        "        predicted_values.append(outputs.item())\n",
        "\n",
        "average_test_loss = np.mean(test_losses)\n",
        "print(f'Loss mean in the test set (MSE): {average_test_loss:.4f}')\n",
        "\n",
        "# Calcular el MSE\n",
        "mse = mean_squared_error(true_values, predicted_values)\n",
        "print(f'Mean cuadratic error (MSE) in the test set: {mse:.4f}')\n"
      ],
      "metadata": {
        "colab": {
          "base_uri": "https://localhost:8080/"
        },
        "outputId": "602b8e34-129d-4d4d-ae48-e96eaf7d2f20",
        "id": "nzq1G7TxAlyU"
      },
      "execution_count": null,
      "outputs": [
        {
          "output_type": "stream",
          "name": "stdout",
          "text": [
            "Loss mean in the test set (MSE): 0.1632\n",
            "Mean cuadratic error (MSE) in the test set: 0.1632\n"
          ]
        }
      ]
    },
    {
      "cell_type": "code",
      "source": [
        "threshold = 0.5  # Umbral de tolerancia\n",
        "correct_predictions = 0\n",
        "\n",
        "for i in range(len(predicted_values)):\n",
        "    if abs(predicted_values[i] - test_data[i][1]) <= threshold:\n",
        "        correct_predictions += 1\n",
        "\n",
        "accuracy = correct_predictions / len(predicted_values)\n",
        "print(f'Accuracy: {accuracy * 100:.2f}%')"
      ],
      "metadata": {
        "colab": {
          "base_uri": "https://localhost:8080/"
        },
        "outputId": "a63b620c-f3bb-48d0-f41c-9d33c5df36ea",
        "id": "PFydfBptAlyV"
      },
      "execution_count": null,
      "outputs": [
        {
          "output_type": "stream",
          "name": "stdout",
          "text": [
            "Accuracy: 79.59%\n"
          ]
        }
      ]
    },
    {
      "cell_type": "code",
      "source": [
        "import matplotlib.pyplot as plt\n",
        "import plotly.express as px\n",
        "import numpy as np\n",
        "import plotly.graph_objects as go  # Importar el módulo go\n",
        "\n",
        "# Crear un rango de fechas para los próximos 8 años (96 meses)\n",
        "start_date = dfa.index[-1] + pd.DateOffset(months=1)\n",
        "end_date = start_date + pd.DateOffset(months=95)\n",
        "date_range = pd.date_range(start_date, end_date, freq='MS')\n",
        "\n",
        "# Verificar que date_range y future_predictions tengan la misma longitud\n",
        "if len(date_range) == len(future_predictions):\n",
        "    # Crear un DataFrame para Plotly\n",
        "    df = pd.DataFrame({'Date': date_range, 'Predictions': future_predictions})\n",
        "\n",
        "    # Agregar una columna de colores en base a las condiciones\n",
        "    # Crear una lista de colores para el relleno\n",
        "    fill_colors = ['green' if x > 0.5 else 'purple' if x < -0.5 else 'rgba(255, 255, 255, 0)' for x in future_predictions]\n",
        "\n",
        "    # Crear la figura interactiva con Plotly Express\n",
        "    fig = px.line(df, x='Date', y='Predictions', line_shape='linear', title='ANOM3.4 value predictions')\n",
        "\n",
        "    # Agregar las líneas de referencia\n",
        "    fig.add_hline(y=0.5, line_dash='dot', line_color='red', annotation_text='+0.5')\n",
        "    fig.add_hline(y=-0.5, line_dash='dot', line_color='red', annotation_text='-0.5')\n",
        "\n",
        "    # Rellenar áreas verdes y moradas\n",
        "    #fig.add_trace(go.Scatter(x=date_range, y=[0.5] * len(date_range), fill='tozeroy', fillcolor='rgba(0, 128, 0, 0.3)', line=dict(color='rgba(255, 255, 255, 0)')))\n",
        "    #fig.add_trace(go.Scatter(x=date_range, y=[-0.5] * len(date_range), fill='tozeroy', fillcolor='rgba(128, 0, 128, 0.3)', line=dict(color='rgba(255, 255, 255, 0)')))\n",
        "\n",
        "    # Mostrar la figura interactiva\n",
        "    fig.show()\n",
        "    fig.write_html(\"sstap.html\")\n",
        "else:\n",
        "    print(\"Las dimensiones de date_range y future_predictions no coinciden\")\n",
        "\n",
        "\n",
        "\n"
      ],
      "metadata": {
        "colab": {
          "base_uri": "https://localhost:8080/",
          "height": 542
        },
        "outputId": "ec8e0ef8-4f87-4ad4-cb56-5ede57a20de9",
        "id": "u276mvdHAlyV"
      },
      "execution_count": null,
      "outputs": [
        {
          "output_type": "display_data",
          "data": {
            "text/html": [
              "<html>\n",
              "<head><meta charset=\"utf-8\" /></head>\n",
              "<body>\n",
              "    <div>            <script src=\"https://cdnjs.cloudflare.com/ajax/libs/mathjax/2.7.5/MathJax.js?config=TeX-AMS-MML_SVG\"></script><script type=\"text/javascript\">if (window.MathJax && window.MathJax.Hub && window.MathJax.Hub.Config) {window.MathJax.Hub.Config({SVG: {font: \"STIX-Web\"}});}</script>                <script type=\"text/javascript\">window.PlotlyConfig = {MathJaxConfig: 'local'};</script>\n",
              "        <script charset=\"utf-8\" src=\"https://cdn.plot.ly/plotly-2.24.1.min.js\"></script>                <div id=\"7a261687-7d91-4315-a6e4-4ceeaf2c0410\" class=\"plotly-graph-div\" style=\"height:525px; width:100%;\"></div>            <script type=\"text/javascript\">                                    window.PLOTLYENV=window.PLOTLYENV || {};                                    if (document.getElementById(\"7a261687-7d91-4315-a6e4-4ceeaf2c0410\")) {                    Plotly.newPlot(                        \"7a261687-7d91-4315-a6e4-4ceeaf2c0410\",                        [{\"hovertemplate\":\"Date=%{x}\\u003cbr\\u003ePredictions=%{y}\\u003cextra\\u003e\\u003c\\u002fextra\\u003e\",\"legendgroup\":\"\",\"line\":{\"color\":\"#636efa\",\"dash\":\"solid\",\"shape\":\"linear\"},\"marker\":{\"symbol\":\"circle\"},\"mode\":\"lines\",\"name\":\"\",\"orientation\":\"v\",\"showlegend\":false,\"x\":[\"2023-10-01T00:00:00\",\"2023-11-01T00:00:00\",\"2023-12-01T00:00:00\",\"2024-01-01T00:00:00\",\"2024-02-01T00:00:00\",\"2024-03-01T00:00:00\",\"2024-04-01T00:00:00\",\"2024-05-01T00:00:00\",\"2024-06-01T00:00:00\",\"2024-07-01T00:00:00\",\"2024-08-01T00:00:00\",\"2024-09-01T00:00:00\",\"2024-10-01T00:00:00\",\"2024-11-01T00:00:00\",\"2024-12-01T00:00:00\",\"2025-01-01T00:00:00\",\"2025-02-01T00:00:00\",\"2025-03-01T00:00:00\",\"2025-04-01T00:00:00\",\"2025-05-01T00:00:00\",\"2025-06-01T00:00:00\",\"2025-07-01T00:00:00\",\"2025-08-01T00:00:00\",\"2025-09-01T00:00:00\",\"2025-10-01T00:00:00\",\"2025-11-01T00:00:00\",\"2025-12-01T00:00:00\",\"2026-01-01T00:00:00\",\"2026-02-01T00:00:00\",\"2026-03-01T00:00:00\",\"2026-04-01T00:00:00\",\"2026-05-01T00:00:00\",\"2026-06-01T00:00:00\",\"2026-07-01T00:00:00\",\"2026-08-01T00:00:00\",\"2026-09-01T00:00:00\",\"2026-10-01T00:00:00\",\"2026-11-01T00:00:00\",\"2026-12-01T00:00:00\",\"2027-01-01T00:00:00\",\"2027-02-01T00:00:00\",\"2027-03-01T00:00:00\",\"2027-04-01T00:00:00\",\"2027-05-01T00:00:00\",\"2027-06-01T00:00:00\",\"2027-07-01T00:00:00\",\"2027-08-01T00:00:00\",\"2027-09-01T00:00:00\",\"2027-10-01T00:00:00\",\"2027-11-01T00:00:00\",\"2027-12-01T00:00:00\",\"2028-01-01T00:00:00\",\"2028-02-01T00:00:00\",\"2028-03-01T00:00:00\",\"2028-04-01T00:00:00\",\"2028-05-01T00:00:00\",\"2028-06-01T00:00:00\",\"2028-07-01T00:00:00\",\"2028-08-01T00:00:00\",\"2028-09-01T00:00:00\",\"2028-10-01T00:00:00\",\"2028-11-01T00:00:00\",\"2028-12-01T00:00:00\",\"2029-01-01T00:00:00\",\"2029-02-01T00:00:00\",\"2029-03-01T00:00:00\",\"2029-04-01T00:00:00\",\"2029-05-01T00:00:00\",\"2029-06-01T00:00:00\",\"2029-07-01T00:00:00\",\"2029-08-01T00:00:00\",\"2029-09-01T00:00:00\",\"2029-10-01T00:00:00\",\"2029-11-01T00:00:00\",\"2029-12-01T00:00:00\",\"2030-01-01T00:00:00\",\"2030-02-01T00:00:00\",\"2030-03-01T00:00:00\",\"2030-04-01T00:00:00\",\"2030-05-01T00:00:00\",\"2030-06-01T00:00:00\",\"2030-07-01T00:00:00\",\"2030-08-01T00:00:00\",\"2030-09-01T00:00:00\",\"2030-10-01T00:00:00\",\"2030-11-01T00:00:00\",\"2030-12-01T00:00:00\",\"2031-01-01T00:00:00\",\"2031-02-01T00:00:00\",\"2031-03-01T00:00:00\",\"2031-04-01T00:00:00\",\"2031-05-01T00:00:00\",\"2031-06-01T00:00:00\",\"2031-07-01T00:00:00\",\"2031-08-01T00:00:00\",\"2031-09-01T00:00:00\"],\"xaxis\":\"x\",\"y\":[1.3368991613388062,1.1242241859436035,1.381811261177063,1.3012421131134033,1.2949291467666626,0.9774356484413147,0.5820242166519165,0.3195635974407196,-0.009670667350292199,-0.27475205063819885,-0.23382636904716492,-0.40750083327293396,-0.34206780791282654,-0.5441604256629944,-0.6332172155380249,-0.9403429627418518,-1.2919213771820068,-1.4866232872009277,-1.5519883632659912,-1.4482945203781128,-1.2709858417510986,-1.0582640171051025,-0.8912521004676819,-0.6505251526832581,-0.4699077904224396,-0.11175040155649184,-0.025827415287494652,-0.19112104177474976,-0.398269921541214,-0.575609028339386,-0.7050666213035583,-0.7268547415733337,-0.593273401260376,-0.4568888247013092,-0.46260979771614075,-0.2629421651363373,0.25715163350105286,0.7324782609939575,1.0829044580459595,1.3630874156951904,1.185373067855835,0.9195603728294373,1.3186390399932861,0.5626493692398071,0.23626232147216797,-0.26720842719078064,-0.25314071774482727,-0.1792430281639099,-0.21442925930023193,-0.32680362462997437,-0.6043593287467957,-0.9082584381103516,-1.0832140445709229,-1.3196790218353271,-1.379060983657837,-1.3386201858520508,-1.3112074136734009,-1.1805169582366943,-0.9360983967781067,-0.7749387621879578,-0.5184529423713684,-0.21435824036598206,0.02859060466289521,-0.09448242932558058,-0.20767095685005188,-0.2719334065914154,-0.5518061518669128,-0.6759884357452393,-0.6568530201911926,-0.6915531754493713,-0.6396923661231995,-0.525746762752533,-0.2509750425815582,0.21317270398139954,0.6305537819862366,0.9332647323608398,1.111011028289795,1.1379891633987427,1.3462610244750977,1.738288164138794,1.773887038230896,1.581972599029541,1.265986680984497,1.0847573280334473,0.5797590017318726,0.03561051934957505,-0.29614248871803284,-0.5196119546890259,-0.6760778427124023,-0.4382454454898834,-0.0772186443209648,0.073415644466877,0.20913419127464294,0.14964818954467773,0.21922418475151062,0.2531871497631073],\"yaxis\":\"y\",\"type\":\"scatter\"}],                        {\"template\":{\"data\":{\"histogram2dcontour\":[{\"type\":\"histogram2dcontour\",\"colorbar\":{\"outlinewidth\":0,\"ticks\":\"\"},\"colorscale\":[[0.0,\"#0d0887\"],[0.1111111111111111,\"#46039f\"],[0.2222222222222222,\"#7201a8\"],[0.3333333333333333,\"#9c179e\"],[0.4444444444444444,\"#bd3786\"],[0.5555555555555556,\"#d8576b\"],[0.6666666666666666,\"#ed7953\"],[0.7777777777777778,\"#fb9f3a\"],[0.8888888888888888,\"#fdca26\"],[1.0,\"#f0f921\"]]}],\"choropleth\":[{\"type\":\"choropleth\",\"colorbar\":{\"outlinewidth\":0,\"ticks\":\"\"}}],\"histogram2d\":[{\"type\":\"histogram2d\",\"colorbar\":{\"outlinewidth\":0,\"ticks\":\"\"},\"colorscale\":[[0.0,\"#0d0887\"],[0.1111111111111111,\"#46039f\"],[0.2222222222222222,\"#7201a8\"],[0.3333333333333333,\"#9c179e\"],[0.4444444444444444,\"#bd3786\"],[0.5555555555555556,\"#d8576b\"],[0.6666666666666666,\"#ed7953\"],[0.7777777777777778,\"#fb9f3a\"],[0.8888888888888888,\"#fdca26\"],[1.0,\"#f0f921\"]]}],\"heatmap\":[{\"type\":\"heatmap\",\"colorbar\":{\"outlinewidth\":0,\"ticks\":\"\"},\"colorscale\":[[0.0,\"#0d0887\"],[0.1111111111111111,\"#46039f\"],[0.2222222222222222,\"#7201a8\"],[0.3333333333333333,\"#9c179e\"],[0.4444444444444444,\"#bd3786\"],[0.5555555555555556,\"#d8576b\"],[0.6666666666666666,\"#ed7953\"],[0.7777777777777778,\"#fb9f3a\"],[0.8888888888888888,\"#fdca26\"],[1.0,\"#f0f921\"]]}],\"heatmapgl\":[{\"type\":\"heatmapgl\",\"colorbar\":{\"outlinewidth\":0,\"ticks\":\"\"},\"colorscale\":[[0.0,\"#0d0887\"],[0.1111111111111111,\"#46039f\"],[0.2222222222222222,\"#7201a8\"],[0.3333333333333333,\"#9c179e\"],[0.4444444444444444,\"#bd3786\"],[0.5555555555555556,\"#d8576b\"],[0.6666666666666666,\"#ed7953\"],[0.7777777777777778,\"#fb9f3a\"],[0.8888888888888888,\"#fdca26\"],[1.0,\"#f0f921\"]]}],\"contourcarpet\":[{\"type\":\"contourcarpet\",\"colorbar\":{\"outlinewidth\":0,\"ticks\":\"\"}}],\"contour\":[{\"type\":\"contour\",\"colorbar\":{\"outlinewidth\":0,\"ticks\":\"\"},\"colorscale\":[[0.0,\"#0d0887\"],[0.1111111111111111,\"#46039f\"],[0.2222222222222222,\"#7201a8\"],[0.3333333333333333,\"#9c179e\"],[0.4444444444444444,\"#bd3786\"],[0.5555555555555556,\"#d8576b\"],[0.6666666666666666,\"#ed7953\"],[0.7777777777777778,\"#fb9f3a\"],[0.8888888888888888,\"#fdca26\"],[1.0,\"#f0f921\"]]}],\"surface\":[{\"type\":\"surface\",\"colorbar\":{\"outlinewidth\":0,\"ticks\":\"\"},\"colorscale\":[[0.0,\"#0d0887\"],[0.1111111111111111,\"#46039f\"],[0.2222222222222222,\"#7201a8\"],[0.3333333333333333,\"#9c179e\"],[0.4444444444444444,\"#bd3786\"],[0.5555555555555556,\"#d8576b\"],[0.6666666666666666,\"#ed7953\"],[0.7777777777777778,\"#fb9f3a\"],[0.8888888888888888,\"#fdca26\"],[1.0,\"#f0f921\"]]}],\"mesh3d\":[{\"type\":\"mesh3d\",\"colorbar\":{\"outlinewidth\":0,\"ticks\":\"\"}}],\"scatter\":[{\"fillpattern\":{\"fillmode\":\"overlay\",\"size\":10,\"solidity\":0.2},\"type\":\"scatter\"}],\"parcoords\":[{\"type\":\"parcoords\",\"line\":{\"colorbar\":{\"outlinewidth\":0,\"ticks\":\"\"}}}],\"scatterpolargl\":[{\"type\":\"scatterpolargl\",\"marker\":{\"colorbar\":{\"outlinewidth\":0,\"ticks\":\"\"}}}],\"bar\":[{\"error_x\":{\"color\":\"#2a3f5f\"},\"error_y\":{\"color\":\"#2a3f5f\"},\"marker\":{\"line\":{\"color\":\"#E5ECF6\",\"width\":0.5},\"pattern\":{\"fillmode\":\"overlay\",\"size\":10,\"solidity\":0.2}},\"type\":\"bar\"}],\"scattergeo\":[{\"type\":\"scattergeo\",\"marker\":{\"colorbar\":{\"outlinewidth\":0,\"ticks\":\"\"}}}],\"scatterpolar\":[{\"type\":\"scatterpolar\",\"marker\":{\"colorbar\":{\"outlinewidth\":0,\"ticks\":\"\"}}}],\"histogram\":[{\"marker\":{\"pattern\":{\"fillmode\":\"overlay\",\"size\":10,\"solidity\":0.2}},\"type\":\"histogram\"}],\"scattergl\":[{\"type\":\"scattergl\",\"marker\":{\"colorbar\":{\"outlinewidth\":0,\"ticks\":\"\"}}}],\"scatter3d\":[{\"type\":\"scatter3d\",\"line\":{\"colorbar\":{\"outlinewidth\":0,\"ticks\":\"\"}},\"marker\":{\"colorbar\":{\"outlinewidth\":0,\"ticks\":\"\"}}}],\"scattermapbox\":[{\"type\":\"scattermapbox\",\"marker\":{\"colorbar\":{\"outlinewidth\":0,\"ticks\":\"\"}}}],\"scatterternary\":[{\"type\":\"scatterternary\",\"marker\":{\"colorbar\":{\"outlinewidth\":0,\"ticks\":\"\"}}}],\"scattercarpet\":[{\"type\":\"scattercarpet\",\"marker\":{\"colorbar\":{\"outlinewidth\":0,\"ticks\":\"\"}}}],\"carpet\":[{\"aaxis\":{\"endlinecolor\":\"#2a3f5f\",\"gridcolor\":\"white\",\"linecolor\":\"white\",\"minorgridcolor\":\"white\",\"startlinecolor\":\"#2a3f5f\"},\"baxis\":{\"endlinecolor\":\"#2a3f5f\",\"gridcolor\":\"white\",\"linecolor\":\"white\",\"minorgridcolor\":\"white\",\"startlinecolor\":\"#2a3f5f\"},\"type\":\"carpet\"}],\"table\":[{\"cells\":{\"fill\":{\"color\":\"#EBF0F8\"},\"line\":{\"color\":\"white\"}},\"header\":{\"fill\":{\"color\":\"#C8D4E3\"},\"line\":{\"color\":\"white\"}},\"type\":\"table\"}],\"barpolar\":[{\"marker\":{\"line\":{\"color\":\"#E5ECF6\",\"width\":0.5},\"pattern\":{\"fillmode\":\"overlay\",\"size\":10,\"solidity\":0.2}},\"type\":\"barpolar\"}],\"pie\":[{\"automargin\":true,\"type\":\"pie\"}]},\"layout\":{\"autotypenumbers\":\"strict\",\"colorway\":[\"#636efa\",\"#EF553B\",\"#00cc96\",\"#ab63fa\",\"#FFA15A\",\"#19d3f3\",\"#FF6692\",\"#B6E880\",\"#FF97FF\",\"#FECB52\"],\"font\":{\"color\":\"#2a3f5f\"},\"hovermode\":\"closest\",\"hoverlabel\":{\"align\":\"left\"},\"paper_bgcolor\":\"white\",\"plot_bgcolor\":\"#E5ECF6\",\"polar\":{\"bgcolor\":\"#E5ECF6\",\"angularaxis\":{\"gridcolor\":\"white\",\"linecolor\":\"white\",\"ticks\":\"\"},\"radialaxis\":{\"gridcolor\":\"white\",\"linecolor\":\"white\",\"ticks\":\"\"}},\"ternary\":{\"bgcolor\":\"#E5ECF6\",\"aaxis\":{\"gridcolor\":\"white\",\"linecolor\":\"white\",\"ticks\":\"\"},\"baxis\":{\"gridcolor\":\"white\",\"linecolor\":\"white\",\"ticks\":\"\"},\"caxis\":{\"gridcolor\":\"white\",\"linecolor\":\"white\",\"ticks\":\"\"}},\"coloraxis\":{\"colorbar\":{\"outlinewidth\":0,\"ticks\":\"\"}},\"colorscale\":{\"sequential\":[[0.0,\"#0d0887\"],[0.1111111111111111,\"#46039f\"],[0.2222222222222222,\"#7201a8\"],[0.3333333333333333,\"#9c179e\"],[0.4444444444444444,\"#bd3786\"],[0.5555555555555556,\"#d8576b\"],[0.6666666666666666,\"#ed7953\"],[0.7777777777777778,\"#fb9f3a\"],[0.8888888888888888,\"#fdca26\"],[1.0,\"#f0f921\"]],\"sequentialminus\":[[0.0,\"#0d0887\"],[0.1111111111111111,\"#46039f\"],[0.2222222222222222,\"#7201a8\"],[0.3333333333333333,\"#9c179e\"],[0.4444444444444444,\"#bd3786\"],[0.5555555555555556,\"#d8576b\"],[0.6666666666666666,\"#ed7953\"],[0.7777777777777778,\"#fb9f3a\"],[0.8888888888888888,\"#fdca26\"],[1.0,\"#f0f921\"]],\"diverging\":[[0,\"#8e0152\"],[0.1,\"#c51b7d\"],[0.2,\"#de77ae\"],[0.3,\"#f1b6da\"],[0.4,\"#fde0ef\"],[0.5,\"#f7f7f7\"],[0.6,\"#e6f5d0\"],[0.7,\"#b8e186\"],[0.8,\"#7fbc41\"],[0.9,\"#4d9221\"],[1,\"#276419\"]]},\"xaxis\":{\"gridcolor\":\"white\",\"linecolor\":\"white\",\"ticks\":\"\",\"title\":{\"standoff\":15},\"zerolinecolor\":\"white\",\"automargin\":true,\"zerolinewidth\":2},\"yaxis\":{\"gridcolor\":\"white\",\"linecolor\":\"white\",\"ticks\":\"\",\"title\":{\"standoff\":15},\"zerolinecolor\":\"white\",\"automargin\":true,\"zerolinewidth\":2},\"scene\":{\"xaxis\":{\"backgroundcolor\":\"#E5ECF6\",\"gridcolor\":\"white\",\"linecolor\":\"white\",\"showbackground\":true,\"ticks\":\"\",\"zerolinecolor\":\"white\",\"gridwidth\":2},\"yaxis\":{\"backgroundcolor\":\"#E5ECF6\",\"gridcolor\":\"white\",\"linecolor\":\"white\",\"showbackground\":true,\"ticks\":\"\",\"zerolinecolor\":\"white\",\"gridwidth\":2},\"zaxis\":{\"backgroundcolor\":\"#E5ECF6\",\"gridcolor\":\"white\",\"linecolor\":\"white\",\"showbackground\":true,\"ticks\":\"\",\"zerolinecolor\":\"white\",\"gridwidth\":2}},\"shapedefaults\":{\"line\":{\"color\":\"#2a3f5f\"}},\"annotationdefaults\":{\"arrowcolor\":\"#2a3f5f\",\"arrowhead\":0,\"arrowwidth\":1},\"geo\":{\"bgcolor\":\"white\",\"landcolor\":\"#E5ECF6\",\"subunitcolor\":\"white\",\"showland\":true,\"showlakes\":true,\"lakecolor\":\"white\"},\"title\":{\"x\":0.05},\"mapbox\":{\"style\":\"light\"}}},\"xaxis\":{\"anchor\":\"y\",\"domain\":[0.0,1.0],\"title\":{\"text\":\"Date\"}},\"yaxis\":{\"anchor\":\"x\",\"domain\":[0.0,1.0],\"title\":{\"text\":\"Predictions\"}},\"legend\":{\"tracegroupgap\":0},\"title\":{\"text\":\"ANOM3.4 value predictions\"},\"shapes\":[{\"line\":{\"color\":\"red\",\"dash\":\"dot\"},\"type\":\"line\",\"x0\":0,\"x1\":1,\"xref\":\"x domain\",\"y0\":0.5,\"y1\":0.5,\"yref\":\"y\"},{\"line\":{\"color\":\"red\",\"dash\":\"dot\"},\"type\":\"line\",\"x0\":0,\"x1\":1,\"xref\":\"x domain\",\"y0\":-0.5,\"y1\":-0.5,\"yref\":\"y\"}],\"annotations\":[{\"showarrow\":false,\"text\":\"+0.5\",\"x\":1,\"xanchor\":\"right\",\"xref\":\"x domain\",\"y\":0.5,\"yanchor\":\"bottom\",\"yref\":\"y\"},{\"showarrow\":false,\"text\":\"-0.5\",\"x\":1,\"xanchor\":\"right\",\"xref\":\"x domain\",\"y\":-0.5,\"yanchor\":\"bottom\",\"yref\":\"y\"}]},                        {\"responsive\": true}                    ).then(function(){\n",
              "                            \n",
              "var gd = document.getElementById('7a261687-7d91-4315-a6e4-4ceeaf2c0410');\n",
              "var x = new MutationObserver(function (mutations, observer) {{\n",
              "        var display = window.getComputedStyle(gd).display;\n",
              "        if (!display || display === 'none') {{\n",
              "            console.log([gd, 'removed!']);\n",
              "            Plotly.purge(gd);\n",
              "            observer.disconnect();\n",
              "        }}\n",
              "}});\n",
              "\n",
              "// Listen for the removal of the full notebook cells\n",
              "var notebookContainer = gd.closest('#notebook-container');\n",
              "if (notebookContainer) {{\n",
              "    x.observe(notebookContainer, {childList: true});\n",
              "}}\n",
              "\n",
              "// Listen for the clearing of the current output cell\n",
              "var outputEl = gd.closest('.output');\n",
              "if (outputEl) {{\n",
              "    x.observe(outputEl, {childList: true});\n",
              "}}\n",
              "\n",
              "                        })                };                            </script>        </div>\n",
              "</body>\n",
              "</html>"
            ]
          },
          "metadata": {}
        }
      ]
    }
  ]
}