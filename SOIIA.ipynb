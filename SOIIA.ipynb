{
  "nbformat": 4,
  "nbformat_minor": 0,
  "metadata": {
    "colab": {
      "provenance": []
    },
    "kernelspec": {
      "name": "python3",
      "display_name": "Python 3"
    },
    "language_info": {
      "name": "python"
    }
  },
  "cells": [
    {
      "cell_type": "code",
      "execution_count": null,
      "metadata": {
        "id": "nfl-H9Rcy8sU"
      },
      "outputs": [],
      "source": [
        "import numpy as np\n",
        "import pandas as pd\n",
        "import torch\n",
        "import torch.nn as nn\n",
        "from torch.autograd import Variable"
      ]
    },
    {
      "cell_type": "code",
      "source": [
        "from google.colab import drive\n",
        "drive.mount('/content/drive')"
      ],
      "metadata": {
        "colab": {
          "base_uri": "https://localhost:8080/"
        },
        "id": "KZrjASwQzk61",
        "outputId": "6071bda9-f7e4-4085-8f33-81cb5cf57448"
      },
      "execution_count": null,
      "outputs": [
        {
          "output_type": "stream",
          "name": "stdout",
          "text": [
            "Mounted at /content/drive\n"
          ]
        }
      ]
    },
    {
      "cell_type": "code",
      "source": [
        "archivo = '/content/drive/My Drive/Social./Trabajo./InDataAnalitycs/datoSOI.csv'\n",
        "df = pd.read_csv(archivo)"
      ],
      "metadata": {
        "id": "y0EBnV6gzpVo"
      },
      "execution_count": null,
      "outputs": []
    },
    {
      "cell_type": "code",
      "source": [
        "df"
      ],
      "metadata": {
        "id": "hoJgWg_byuIF",
        "outputId": "89bab11c-a3a3-4397-be57-0e7be2a7f571",
        "colab": {
          "base_uri": "https://localhost:8080/",
          "height": 424
        }
      },
      "execution_count": null,
      "outputs": [
        {
          "output_type": "execute_result",
          "data": {
            "text/plain": [
              "      Year  Month    SOI  Six month mean\n",
              "0     1876      1  10.80             NaN\n",
              "1     1876      2  10.60             NaN\n",
              "2     1876      3  -0.70             NaN\n",
              "3     1876      4   7.90             NaN\n",
              "4     1876      5   6.90             NaN\n",
              "...    ...    ...    ...             ...\n",
              "1725  2019     10  -5.19            -7.4\n",
              "1726  2019     11  -9.45            -7.7\n",
              "1727  2019     12  -6.72            -7.2\n",
              "1728  2020      1   0.65            -6.1\n",
              "1729  2020      2  -2.60            -6.0\n",
              "\n",
              "[1730 rows x 4 columns]"
            ],
            "text/html": [
              "\n",
              "  <div id=\"df-5aae6c57-d9cf-43b0-8847-edf54b2edb78\" class=\"colab-df-container\">\n",
              "    <div>\n",
              "<style scoped>\n",
              "    .dataframe tbody tr th:only-of-type {\n",
              "        vertical-align: middle;\n",
              "    }\n",
              "\n",
              "    .dataframe tbody tr th {\n",
              "        vertical-align: top;\n",
              "    }\n",
              "\n",
              "    .dataframe thead th {\n",
              "        text-align: right;\n",
              "    }\n",
              "</style>\n",
              "<table border=\"1\" class=\"dataframe\">\n",
              "  <thead>\n",
              "    <tr style=\"text-align: right;\">\n",
              "      <th></th>\n",
              "      <th>Year</th>\n",
              "      <th>Month</th>\n",
              "      <th>SOI</th>\n",
              "      <th>Six month mean</th>\n",
              "    </tr>\n",
              "  </thead>\n",
              "  <tbody>\n",
              "    <tr>\n",
              "      <th>0</th>\n",
              "      <td>1876</td>\n",
              "      <td>1</td>\n",
              "      <td>10.80</td>\n",
              "      <td>NaN</td>\n",
              "    </tr>\n",
              "    <tr>\n",
              "      <th>1</th>\n",
              "      <td>1876</td>\n",
              "      <td>2</td>\n",
              "      <td>10.60</td>\n",
              "      <td>NaN</td>\n",
              "    </tr>\n",
              "    <tr>\n",
              "      <th>2</th>\n",
              "      <td>1876</td>\n",
              "      <td>3</td>\n",
              "      <td>-0.70</td>\n",
              "      <td>NaN</td>\n",
              "    </tr>\n",
              "    <tr>\n",
              "      <th>3</th>\n",
              "      <td>1876</td>\n",
              "      <td>4</td>\n",
              "      <td>7.90</td>\n",
              "      <td>NaN</td>\n",
              "    </tr>\n",
              "    <tr>\n",
              "      <th>4</th>\n",
              "      <td>1876</td>\n",
              "      <td>5</td>\n",
              "      <td>6.90</td>\n",
              "      <td>NaN</td>\n",
              "    </tr>\n",
              "    <tr>\n",
              "      <th>...</th>\n",
              "      <td>...</td>\n",
              "      <td>...</td>\n",
              "      <td>...</td>\n",
              "      <td>...</td>\n",
              "    </tr>\n",
              "    <tr>\n",
              "      <th>1725</th>\n",
              "      <td>2019</td>\n",
              "      <td>10</td>\n",
              "      <td>-5.19</td>\n",
              "      <td>-7.4</td>\n",
              "    </tr>\n",
              "    <tr>\n",
              "      <th>1726</th>\n",
              "      <td>2019</td>\n",
              "      <td>11</td>\n",
              "      <td>-9.45</td>\n",
              "      <td>-7.7</td>\n",
              "    </tr>\n",
              "    <tr>\n",
              "      <th>1727</th>\n",
              "      <td>2019</td>\n",
              "      <td>12</td>\n",
              "      <td>-6.72</td>\n",
              "      <td>-7.2</td>\n",
              "    </tr>\n",
              "    <tr>\n",
              "      <th>1728</th>\n",
              "      <td>2020</td>\n",
              "      <td>1</td>\n",
              "      <td>0.65</td>\n",
              "      <td>-6.1</td>\n",
              "    </tr>\n",
              "    <tr>\n",
              "      <th>1729</th>\n",
              "      <td>2020</td>\n",
              "      <td>2</td>\n",
              "      <td>-2.60</td>\n",
              "      <td>-6.0</td>\n",
              "    </tr>\n",
              "  </tbody>\n",
              "</table>\n",
              "<p>1730 rows × 4 columns</p>\n",
              "</div>\n",
              "    <div class=\"colab-df-buttons\">\n",
              "\n",
              "  <div class=\"colab-df-container\">\n",
              "    <button class=\"colab-df-convert\" onclick=\"convertToInteractive('df-5aae6c57-d9cf-43b0-8847-edf54b2edb78')\"\n",
              "            title=\"Convert this dataframe to an interactive table.\"\n",
              "            style=\"display:none;\">\n",
              "\n",
              "  <svg xmlns=\"http://www.w3.org/2000/svg\" height=\"24px\" viewBox=\"0 -960 960 960\">\n",
              "    <path d=\"M120-120v-720h720v720H120Zm60-500h600v-160H180v160Zm220 220h160v-160H400v160Zm0 220h160v-160H400v160ZM180-400h160v-160H180v160Zm440 0h160v-160H620v160ZM180-180h160v-160H180v160Zm440 0h160v-160H620v160Z\"/>\n",
              "  </svg>\n",
              "    </button>\n",
              "\n",
              "  <style>\n",
              "    .colab-df-container {\n",
              "      display:flex;\n",
              "      gap: 12px;\n",
              "    }\n",
              "\n",
              "    .colab-df-convert {\n",
              "      background-color: #E8F0FE;\n",
              "      border: none;\n",
              "      border-radius: 50%;\n",
              "      cursor: pointer;\n",
              "      display: none;\n",
              "      fill: #1967D2;\n",
              "      height: 32px;\n",
              "      padding: 0 0 0 0;\n",
              "      width: 32px;\n",
              "    }\n",
              "\n",
              "    .colab-df-convert:hover {\n",
              "      background-color: #E2EBFA;\n",
              "      box-shadow: 0px 1px 2px rgba(60, 64, 67, 0.3), 0px 1px 3px 1px rgba(60, 64, 67, 0.15);\n",
              "      fill: #174EA6;\n",
              "    }\n",
              "\n",
              "    .colab-df-buttons div {\n",
              "      margin-bottom: 4px;\n",
              "    }\n",
              "\n",
              "    [theme=dark] .colab-df-convert {\n",
              "      background-color: #3B4455;\n",
              "      fill: #D2E3FC;\n",
              "    }\n",
              "\n",
              "    [theme=dark] .colab-df-convert:hover {\n",
              "      background-color: #434B5C;\n",
              "      box-shadow: 0px 1px 3px 1px rgba(0, 0, 0, 0.15);\n",
              "      filter: drop-shadow(0px 1px 2px rgba(0, 0, 0, 0.3));\n",
              "      fill: #FFFFFF;\n",
              "    }\n",
              "  </style>\n",
              "\n",
              "    <script>\n",
              "      const buttonEl =\n",
              "        document.querySelector('#df-5aae6c57-d9cf-43b0-8847-edf54b2edb78 button.colab-df-convert');\n",
              "      buttonEl.style.display =\n",
              "        google.colab.kernel.accessAllowed ? 'block' : 'none';\n",
              "\n",
              "      async function convertToInteractive(key) {\n",
              "        const element = document.querySelector('#df-5aae6c57-d9cf-43b0-8847-edf54b2edb78');\n",
              "        const dataTable =\n",
              "          await google.colab.kernel.invokeFunction('convertToInteractive',\n",
              "                                                    [key], {});\n",
              "        if (!dataTable) return;\n",
              "\n",
              "        const docLinkHtml = 'Like what you see? Visit the ' +\n",
              "          '<a target=\"_blank\" href=https://colab.research.google.com/notebooks/data_table.ipynb>data table notebook</a>'\n",
              "          + ' to learn more about interactive tables.';\n",
              "        element.innerHTML = '';\n",
              "        dataTable['output_type'] = 'display_data';\n",
              "        await google.colab.output.renderOutput(dataTable, element);\n",
              "        const docLink = document.createElement('div');\n",
              "        docLink.innerHTML = docLinkHtml;\n",
              "        element.appendChild(docLink);\n",
              "      }\n",
              "    </script>\n",
              "  </div>\n",
              "\n",
              "\n",
              "<div id=\"df-bf072228-e964-499b-9411-bc21cf24922f\">\n",
              "  <button class=\"colab-df-quickchart\" onclick=\"quickchart('df-bf072228-e964-499b-9411-bc21cf24922f')\"\n",
              "            title=\"Suggest charts.\"\n",
              "            style=\"display:none;\">\n",
              "\n",
              "<svg xmlns=\"http://www.w3.org/2000/svg\" height=\"24px\"viewBox=\"0 0 24 24\"\n",
              "     width=\"24px\">\n",
              "    <g>\n",
              "        <path d=\"M19 3H5c-1.1 0-2 .9-2 2v14c0 1.1.9 2 2 2h14c1.1 0 2-.9 2-2V5c0-1.1-.9-2-2-2zM9 17H7v-7h2v7zm4 0h-2V7h2v10zm4 0h-2v-4h2v4z\"/>\n",
              "    </g>\n",
              "</svg>\n",
              "  </button>\n",
              "\n",
              "<style>\n",
              "  .colab-df-quickchart {\n",
              "      --bg-color: #E8F0FE;\n",
              "      --fill-color: #1967D2;\n",
              "      --hover-bg-color: #E2EBFA;\n",
              "      --hover-fill-color: #174EA6;\n",
              "      --disabled-fill-color: #AAA;\n",
              "      --disabled-bg-color: #DDD;\n",
              "  }\n",
              "\n",
              "  [theme=dark] .colab-df-quickchart {\n",
              "      --bg-color: #3B4455;\n",
              "      --fill-color: #D2E3FC;\n",
              "      --hover-bg-color: #434B5C;\n",
              "      --hover-fill-color: #FFFFFF;\n",
              "      --disabled-bg-color: #3B4455;\n",
              "      --disabled-fill-color: #666;\n",
              "  }\n",
              "\n",
              "  .colab-df-quickchart {\n",
              "    background-color: var(--bg-color);\n",
              "    border: none;\n",
              "    border-radius: 50%;\n",
              "    cursor: pointer;\n",
              "    display: none;\n",
              "    fill: var(--fill-color);\n",
              "    height: 32px;\n",
              "    padding: 0;\n",
              "    width: 32px;\n",
              "  }\n",
              "\n",
              "  .colab-df-quickchart:hover {\n",
              "    background-color: var(--hover-bg-color);\n",
              "    box-shadow: 0 1px 2px rgba(60, 64, 67, 0.3), 0 1px 3px 1px rgba(60, 64, 67, 0.15);\n",
              "    fill: var(--button-hover-fill-color);\n",
              "  }\n",
              "\n",
              "  .colab-df-quickchart-complete:disabled,\n",
              "  .colab-df-quickchart-complete:disabled:hover {\n",
              "    background-color: var(--disabled-bg-color);\n",
              "    fill: var(--disabled-fill-color);\n",
              "    box-shadow: none;\n",
              "  }\n",
              "\n",
              "  .colab-df-spinner {\n",
              "    border: 2px solid var(--fill-color);\n",
              "    border-color: transparent;\n",
              "    border-bottom-color: var(--fill-color);\n",
              "    animation:\n",
              "      spin 1s steps(1) infinite;\n",
              "  }\n",
              "\n",
              "  @keyframes spin {\n",
              "    0% {\n",
              "      border-color: transparent;\n",
              "      border-bottom-color: var(--fill-color);\n",
              "      border-left-color: var(--fill-color);\n",
              "    }\n",
              "    20% {\n",
              "      border-color: transparent;\n",
              "      border-left-color: var(--fill-color);\n",
              "      border-top-color: var(--fill-color);\n",
              "    }\n",
              "    30% {\n",
              "      border-color: transparent;\n",
              "      border-left-color: var(--fill-color);\n",
              "      border-top-color: var(--fill-color);\n",
              "      border-right-color: var(--fill-color);\n",
              "    }\n",
              "    40% {\n",
              "      border-color: transparent;\n",
              "      border-right-color: var(--fill-color);\n",
              "      border-top-color: var(--fill-color);\n",
              "    }\n",
              "    60% {\n",
              "      border-color: transparent;\n",
              "      border-right-color: var(--fill-color);\n",
              "    }\n",
              "    80% {\n",
              "      border-color: transparent;\n",
              "      border-right-color: var(--fill-color);\n",
              "      border-bottom-color: var(--fill-color);\n",
              "    }\n",
              "    90% {\n",
              "      border-color: transparent;\n",
              "      border-bottom-color: var(--fill-color);\n",
              "    }\n",
              "  }\n",
              "</style>\n",
              "\n",
              "  <script>\n",
              "    async function quickchart(key) {\n",
              "      const quickchartButtonEl =\n",
              "        document.querySelector('#' + key + ' button');\n",
              "      quickchartButtonEl.disabled = true;  // To prevent multiple clicks.\n",
              "      quickchartButtonEl.classList.add('colab-df-spinner');\n",
              "      try {\n",
              "        const charts = await google.colab.kernel.invokeFunction(\n",
              "            'suggestCharts', [key], {});\n",
              "      } catch (error) {\n",
              "        console.error('Error during call to suggestCharts:', error);\n",
              "      }\n",
              "      quickchartButtonEl.classList.remove('colab-df-spinner');\n",
              "      quickchartButtonEl.classList.add('colab-df-quickchart-complete');\n",
              "    }\n",
              "    (() => {\n",
              "      let quickchartButtonEl =\n",
              "        document.querySelector('#df-bf072228-e964-499b-9411-bc21cf24922f button');\n",
              "      quickchartButtonEl.style.display =\n",
              "        google.colab.kernel.accessAllowed ? 'block' : 'none';\n",
              "    })();\n",
              "  </script>\n",
              "</div>\n",
              "    </div>\n",
              "  </div>\n"
            ]
          },
          "metadata": {},
          "execution_count": 4
        }
      ]
    },
    {
      "cell_type": "code",
      "source": [
        "df['SOI']"
      ],
      "metadata": {
        "colab": {
          "base_uri": "https://localhost:8080/"
        },
        "id": "PF1cR3v_32LJ",
        "outputId": "960796b8-74c3-4c7c-d3cb-57420ba20746"
      },
      "execution_count": null,
      "outputs": [
        {
          "output_type": "execute_result",
          "data": {
            "text/plain": [
              "0       10.80\n",
              "1       10.60\n",
              "2       -0.70\n",
              "3        7.90\n",
              "4        6.90\n",
              "        ...  \n",
              "1725    -5.19\n",
              "1726    -9.45\n",
              "1727    -6.72\n",
              "1728     0.65\n",
              "1729    -2.60\n",
              "Name: SOI, Length: 1730, dtype: float64"
            ]
          },
          "metadata": {},
          "execution_count": 26
        }
      ]
    },
    {
      "cell_type": "code",
      "source": [
        "# Preprocesar los datos\n",
        "# Agregar una columna \"Date\" que combine Year y Month para tener una fecha\n",
        "df['Date'] = pd.to_datetime(df[['Year', 'Month']].assign(day=1))\n",
        "# Seleccionar la columna \"Date\" como índice\n",
        "df.set_index('Date', inplace=True)\n",
        "# Normalizar los valores de SOI\n",
        "soi_mean = df['SOI'].mean()\n",
        "soi_std = df['SOI'].std()\n",
        "df['SOI'] = (df['SOI'] - soi_mean) / soi_std\n"
      ],
      "metadata": {
        "id": "BdEcIn4jzzq8"
      },
      "execution_count": null,
      "outputs": []
    },
    {
      "cell_type": "code",
      "source": [
        "df['SOI']"
      ],
      "metadata": {
        "colab": {
          "base_uri": "https://localhost:8080/"
        },
        "id": "BOg2z5vB0zvE",
        "outputId": "ac4ea0bb-f4a7-4261-9262-c0b8a45ba2a5"
      },
      "execution_count": null,
      "outputs": [
        {
          "output_type": "execute_result",
          "data": {
            "text/plain": [
              "Date\n",
              "1876-01-01    1.111027\n",
              "1876-02-01    1.090810\n",
              "1876-03-01   -0.051438\n",
              "1876-04-01    0.817884\n",
              "1876-05-01    0.716800\n",
              "                ...   \n",
              "2019-10-01   -0.505305\n",
              "2019-11-01   -0.935923\n",
              "2019-12-01   -0.659964\n",
              "2020-01-01    0.085025\n",
              "2020-02-01   -0.243498\n",
              "Name: SOI, Length: 1730, dtype: float64"
            ]
          },
          "metadata": {},
          "execution_count": 29
        }
      ]
    },
    {
      "cell_type": "code",
      "source": [
        " df['SOI'] * soi_std + soi_mean\n"
      ],
      "metadata": {
        "colab": {
          "base_uri": "https://localhost:8080/"
        },
        "id": "JvccTAAa3ntM",
        "outputId": "de3fe3b3-4320-49d8-ace2-48fc2482ad91"
      },
      "execution_count": null,
      "outputs": [
        {
          "output_type": "execute_result",
          "data": {
            "text/plain": [
              "Date\n",
              "1876-01-01    10.80\n",
              "1876-02-01    10.60\n",
              "1876-03-01    -0.70\n",
              "1876-04-01     7.90\n",
              "1876-05-01     6.90\n",
              "              ...  \n",
              "2019-10-01    -5.19\n",
              "2019-11-01    -9.45\n",
              "2019-12-01    -6.72\n",
              "2020-01-01     0.65\n",
              "2020-02-01    -2.60\n",
              "Name: SOI, Length: 1730, dtype: float64"
            ]
          },
          "metadata": {},
          "execution_count": 30
        }
      ]
    },
    {
      "cell_type": "code",
      "source": [
        "# Crear secuencias de datos de entrenamiento\n",
        "sequence_length = 12  # Usar un año de datos para predecir el siguiente\n",
        "sequences = []\n",
        "for i in range(len(df) - sequence_length):\n",
        "    sequence = df['SOI'].iloc[i:i + sequence_length].values\n",
        "    target = df['SOI'].iloc[i + sequence_length]\n",
        "    sequences.append((sequence, target))"
      ],
      "metadata": {
        "id": "I3Jo2sF2z8dy"
      },
      "execution_count": null,
      "outputs": []
    },
    {
      "cell_type": "code",
      "source": [
        "# Dividir los datos en conjuntos de entrenamiento y prueba\n",
        "train_size = int(0.8 * len(sequences))\n",
        "train_data = sequences[:train_size]\n",
        "test_data = sequences[train_size:]"
      ],
      "metadata": {
        "id": "D0TxgiQqz-qj"
      },
      "execution_count": null,
      "outputs": []
    },
    {
      "cell_type": "code",
      "source": [
        "# Definir una clase de modelo RNN simple\n",
        "class SOIModel(nn.Module):\n",
        "    def __init__(self, input_size, hidden_size, num_layers):\n",
        "        super(SOIModel, self).__init__()\n",
        "        self.hidden_size = hidden_size\n",
        "        self.num_layers = num_layers\n",
        "        self.lstm = nn.LSTM(input_size, hidden_size, num_layers, batch_first=True)\n",
        "        self.fc = nn.Linear(hidden_size, 1)\n",
        "\n",
        "    def forward(self, x):\n",
        "        h0 = Variable(torch.zeros(self.num_layers, x.size(0), self.hidden_size))\n",
        "        c0 = Variable(torch.zeros(self.num_layers, x.size(0), self.hidden_size))\n",
        "        out, _ = self.lstm(x, (h0, c0))\n",
        "        out = self.fc(out[:, -1, :])\n",
        "        return out\n"
      ],
      "metadata": {
        "id": "NQN3Zlzr0Btk"
      },
      "execution_count": null,
      "outputs": []
    },
    {
      "cell_type": "code",
      "source": [
        "# Crear el modelo\n",
        "input_size = 1  # Solo se predice el valor SOI\n",
        "hidden_size = 64\n",
        "num_layers = 2\n",
        "model = SOIModel(input_size, hidden_size, num_layers)\n"
      ],
      "metadata": {
        "id": "tQW3WNsF0ElO"
      },
      "execution_count": null,
      "outputs": []
    },
    {
      "cell_type": "code",
      "source": [
        "# Función de pérdida y optimizador\n",
        "criterion = nn.MSELoss()\n",
        "optimizer = torch.optim.Adam(model.parameters(), lr=0.001)"
      ],
      "metadata": {
        "id": "IaXapFpM0Ivh"
      },
      "execution_count": null,
      "outputs": []
    },
    {
      "cell_type": "code",
      "source": [
        "# Entrenar el modelo\n",
        "num_epochs = 100\n",
        "for epoch in range(num_epochs):\n",
        "    for sequence, target in train_data:\n",
        "        sequence = np.reshape(sequence, (1, sequence_length, 1))\n",
        "        sequence = Variable(torch.Tensor(sequence))\n",
        "        target = Variable(torch.Tensor(np.array([target])))\n",
        "\n",
        "        # Forward pass\n",
        "        outputs = model(sequence)\n",
        "        loss = criterion(outputs, target)\n",
        "\n",
        "        # Backward pass y optimización\n",
        "        optimizer.zero_grad()\n",
        "        loss.backward()\n",
        "        optimizer.step()\n",
        "\n",
        "    if (epoch + 1) % 10 == 0:\n",
        "        print(f'Epoch [{epoch + 1}/{num_epochs}], Loss: {loss.item():.4f}')"
      ],
      "metadata": {
        "colab": {
          "base_uri": "https://localhost:8080/"
        },
        "id": "yFwRdFcz0Lr-",
        "outputId": "c1e1145e-3a32-478f-f9dd-ff16fb098287"
      },
      "execution_count": null,
      "outputs": [
        {
          "output_type": "stream",
          "name": "stderr",
          "text": [
            "/usr/local/lib/python3.10/dist-packages/torch/nn/modules/loss.py:536: UserWarning: Using a target size (torch.Size([1])) that is different to the input size (torch.Size([1, 1])). This will likely lead to incorrect results due to broadcasting. Please ensure they have the same size.\n",
            "  return F.mse_loss(input, target, reduction=self.reduction)\n"
          ]
        },
        {
          "output_type": "stream",
          "name": "stdout",
          "text": [
            "Epoch [10/100], Loss: 0.5059\n",
            "Epoch [20/100], Loss: 0.4941\n",
            "Epoch [30/100], Loss: 0.4299\n",
            "Epoch [40/100], Loss: 0.0339\n",
            "Epoch [50/100], Loss: 0.0736\n",
            "Epoch [60/100], Loss: 0.0092\n",
            "Epoch [70/100], Loss: 0.1086\n",
            "Epoch [80/100], Loss: 0.0735\n",
            "Epoch [90/100], Loss: 0.0162\n",
            "Epoch [100/100], Loss: 0.1215\n"
          ]
        }
      ]
    },
    {
      "cell_type": "code",
      "source": [
        "# Evaluar el modelo en el conjunto de prueba\n",
        "model.eval()\n",
        "test_losses = []\n",
        "with torch.no_grad():\n",
        "    for sequence, target in test_data:\n",
        "        sequence = np.reshape(sequence, (1, sequence_length, 1))\n",
        "        sequence = Variable(torch.Tensor(sequence))\n",
        "        target = Variable(torch.Tensor(np.array([target])))\n",
        "\n",
        "        outputs = model(sequence)\n",
        "        loss = criterion(outputs, target)\n",
        "        test_losses.append(loss.item())\n",
        "\n",
        "average_test_loss = np.mean(test_losses)\n",
        "print(f'Loss mean in the test set: {average_test_loss:.4f}')\n"
      ],
      "metadata": {
        "colab": {
          "base_uri": "https://localhost:8080/"
        },
        "id": "XHYTeJTW0Q47",
        "outputId": "c0977ecb-8cf8-4956-8941-d7e3a1cda2ae"
      },
      "execution_count": null,
      "outputs": [
        {
          "output_type": "stream",
          "name": "stdout",
          "text": [
            "Promedio de pérdida en el conjunto de prueba: 0.8487\n"
          ]
        }
      ]
    },
    {
      "cell_type": "code",
      "source": [
        "# Predecir los valores de SOI para los próximos 8 años\n",
        "future_predictions = []\n",
        "last_sequence = test_data[-1][0]\n",
        "for i in range(8 * 12):\n",
        "    sequence = np.reshape(last_sequence, (1, sequence_length, 1))\n",
        "    sequence = Variable(torch.Tensor(sequence))\n",
        "    prediction = model(sequence)\n",
        "    future_predictions.append(prediction.item())\n",
        "    last_sequence = np.append(last_sequence[1:], prediction.item())"
      ],
      "metadata": {
        "id": "A_3o51TE0Xls"
      },
      "execution_count": null,
      "outputs": []
    },
    {
      "cell_type": "code",
      "source": [
        "future_predictions"
      ],
      "metadata": {
        "colab": {
          "base_uri": "https://localhost:8080/"
        },
        "id": "Kh-chXsw3DF6",
        "outputId": "18e40584-3963-48bc-c67a-e2fad10683e0"
      },
      "execution_count": null,
      "outputs": [
        {
          "output_type": "execute_result",
          "data": {
            "text/plain": [
              "array([ 3.50296088, -5.83524558, -2.74728376,  0.91893604, -1.4463178 ,\n",
              "        5.93126417,  3.35206846, -4.33569753, -3.55193226,  0.22329017,\n",
              "        0.6464609 ,  1.15212027,  3.12136477, -2.64555353,  1.24783645,\n",
              "        3.31867011, -2.92664826,  1.08821346,  1.59376212,  1.05687448,\n",
              "        0.97691107,  3.4818076 , -0.39357842, -6.04560146, -1.62291902,\n",
              "        4.09213647,  4.35537791,  1.03626132, -2.23924823,  1.16820266,\n",
              "        8.38775268,  4.27330354,  0.20815756, -0.93004818,  5.11493874,\n",
              "        1.42788082, 11.64470843,  4.06489471, -7.74249759, -5.78699942,\n",
              "        8.04457525,  7.88004558, -1.10737586,  3.66651908, -2.82405389,\n",
              "        8.42616516, -2.07373104, -3.29058773,  1.25130466, -2.22559329,\n",
              "        3.40978802, -1.45035531, -9.32499595, -4.23358285,  1.83225014,\n",
              "       -8.28085495, -3.41480386, -2.96386787, -2.48493476, -2.11563679,\n",
              "       -2.23482287,  2.00323888, -5.84491415,  1.25331391,  0.21746173,\n",
              "        0.27958424,  3.96661662,  1.87328482, -0.70311736, -2.06622975,\n",
              "        1.7032867 , -1.59112689,  3.88839829,  3.24607827, -4.17140845,\n",
              "       -5.16334139,  5.3321464 ,  6.84599359, -0.18566592, -2.91664328,\n",
              "       -5.78431649,  4.5107579 ,  2.1667222 ,  3.37466493,  0.69670909,\n",
              "       -6.45073158, -1.65488157, -1.87785223,  1.3722112 ,  1.70432095,\n",
              "        0.89590279, -0.38493246, -4.64697699,  1.15786129,  3.18294067,\n",
              "       -0.13884268])"
            ]
          },
          "metadata": {},
          "execution_count": 20
        }
      ]
    },
    {
      "cell_type": "code",
      "source": [
        "# Desnormalizar las predicciones\n",
        "future_predictions = np.array(future_predictions) * soi_std + soi_mean\n"
      ],
      "metadata": {
        "id": "3cGyoyL50YrD"
      },
      "execution_count": null,
      "outputs": []
    },
    {
      "cell_type": "code",
      "source": [
        "# Imprimir las predicciones para los próximos 8 años\n",
        "for i, prediction in enumerate(future_predictions):\n",
        "    print(f'Year {i // 12 + 1}, Mes {i % 12 + 1}: Prediction SOI = {prediction:.4f}')"
      ],
      "metadata": {
        "colab": {
          "base_uri": "https://localhost:8080/"
        },
        "id": "isnj81w-0ajV",
        "outputId": "5ef24a7d-e2d8-4d74-a065-55fc29df8c99"
      },
      "execution_count": null,
      "outputs": [
        {
          "output_type": "stream",
          "name": "stdout",
          "text": [
            "Año 1, Mes 1: Predicción SOI = -1.7226\n",
            "Año 1, Mes 2: Predicción SOI = -8.7409\n",
            "Año 1, Mes 3: Predicción SOI = 0.1916\n",
            "Año 1, Mes 4: Predicción SOI = 0.1926\n",
            "Año 1, Mes 5: Predicción SOI = 6.6436\n",
            "Año 1, Mes 6: Predicción SOI = 13.3636\n",
            "Año 1, Mes 7: Predicción SOI = 13.7488\n",
            "Año 1, Mes 8: Predicción SOI = 9.2529\n",
            "Año 1, Mes 9: Predicción SOI = 4.0416\n",
            "Año 1, Mes 10: Predicción SOI = 8.4265\n",
            "Año 1, Mes 11: Predicción SOI = 5.3113\n",
            "Año 1, Mes 12: Predicción SOI = 3.8275\n",
            "Año 2, Mes 1: Predicción SOI = 3.6925\n",
            "Año 2, Mes 2: Predicción SOI = 7.7456\n",
            "Año 2, Mes 3: Predicción SOI = 7.4812\n",
            "Año 2, Mes 4: Predicción SOI = 9.5029\n",
            "Año 2, Mes 5: Predicción SOI = 6.7498\n",
            "Año 2, Mes 6: Predicción SOI = 7.4198\n",
            "Año 2, Mes 7: Predicción SOI = 8.7504\n",
            "Año 2, Mes 8: Predicción SOI = 2.9896\n",
            "Año 2, Mes 9: Predicción SOI = 1.5300\n",
            "Año 2, Mes 10: Predicción SOI = 3.6896\n",
            "Año 2, Mes 11: Predicción SOI = 4.0963\n",
            "Año 2, Mes 12: Predicción SOI = -4.2100\n",
            "Año 3, Mes 1: Predicción SOI = -6.5065\n",
            "Año 3, Mes 2: Predicción SOI = -5.1530\n",
            "Año 3, Mes 3: Predicción SOI = -9.9044\n",
            "Año 3, Mes 4: Predicción SOI = -8.0276\n",
            "Año 3, Mes 5: Predicción SOI = -10.7674\n",
            "Año 3, Mes 6: Predicción SOI = -6.7049\n",
            "Año 3, Mes 7: Predicción SOI = -11.4818\n",
            "Año 3, Mes 8: Predicción SOI = -6.5387\n",
            "Año 3, Mes 9: Predicción SOI = -0.5796\n",
            "Año 3, Mes 10: Predicción SOI = -10.8654\n",
            "Año 3, Mes 11: Predicción SOI = -5.0326\n",
            "Año 3, Mes 12: Predicción SOI = -2.9113\n",
            "Año 4, Mes 1: Predicción SOI = 7.6446\n",
            "Año 4, Mes 2: Predicción SOI = -1.1379\n",
            "Año 4, Mes 3: Predicción SOI = -4.0937\n",
            "Año 4, Mes 4: Predicción SOI = 4.2602\n",
            "Año 4, Mes 5: Predicción SOI = 5.8118\n",
            "Año 4, Mes 6: Predicción SOI = 12.4883\n",
            "Año 4, Mes 7: Predicción SOI = 17.0328\n",
            "Año 4, Mes 8: Predicción SOI = 14.6118\n",
            "Año 4, Mes 9: Predicción SOI = 17.2486\n",
            "Año 4, Mes 10: Predicción SOI = 18.3011\n",
            "Año 4, Mes 11: Predicción SOI = 11.6198\n",
            "Año 4, Mes 12: Predicción SOI = 11.8520\n",
            "Año 5, Mes 1: Predicción SOI = 7.2681\n",
            "Año 5, Mes 2: Predicción SOI = 9.8746\n",
            "Año 5, Mes 3: Predicción SOI = 1.4481\n",
            "Año 5, Mes 4: Predicción SOI = 6.8751\n",
            "Año 5, Mes 5: Predicción SOI = 8.2135\n",
            "Año 5, Mes 6: Predicción SOI = 7.8351\n",
            "Año 5, Mes 7: Predicción SOI = 12.0450\n",
            "Año 5, Mes 8: Predicción SOI = 11.7862\n",
            "Año 5, Mes 9: Predicción SOI = 8.1088\n",
            "Año 5, Mes 10: Predicción SOI = 8.7799\n",
            "Año 5, Mes 11: Predicción SOI = 7.6690\n",
            "Año 5, Mes 12: Predicción SOI = 13.4738\n",
            "Año 6, Mes 1: Predicción SOI = 13.2724\n",
            "Año 6, Mes 2: Predicción SOI = 14.0860\n",
            "Año 6, Mes 3: Predicción SOI = 9.9480\n",
            "Año 6, Mes 4: Predicción SOI = 9.3660\n",
            "Año 6, Mes 5: Predicción SOI = 12.6702\n",
            "Año 6, Mes 6: Predicción SOI = 9.8888\n",
            "Año 6, Mes 7: Predicción SOI = 14.4777\n",
            "Año 6, Mes 8: Predicción SOI = 12.6780\n",
            "Año 6, Mes 9: Predicción SOI = 8.3258\n",
            "Año 6, Mes 10: Predicción SOI = 10.9290\n",
            "Año 6, Mes 11: Predicción SOI = 10.4321\n",
            "Año 6, Mes 12: Predicción SOI = 10.2213\n",
            "Año 7, Mes 1: Predicción SOI = 9.9962\n",
            "Año 7, Mes 2: Predicción SOI = 7.6415\n",
            "Año 7, Mes 3: Predicción SOI = 4.9731\n",
            "Año 7, Mes 4: Predicción SOI = 8.1458\n",
            "Año 7, Mes 5: Predicción SOI = 6.1676\n",
            "Año 7, Mes 6: Predicción SOI = 7.7546\n",
            "Año 7, Mes 7: Predicción SOI = 10.2934\n",
            "Año 7, Mes 8: Predicción SOI = 6.9731\n",
            "Año 7, Mes 9: Predicción SOI = 9.3192\n",
            "Año 7, Mes 10: Predicción SOI = 5.3382\n",
            "Año 7, Mes 11: Predicción SOI = 6.7092\n",
            "Año 7, Mes 12: Predicción SOI = 8.8738\n",
            "Año 8, Mes 1: Predicción SOI = 8.5276\n",
            "Año 8, Mes 2: Predicción SOI = 2.9298\n",
            "Año 8, Mes 3: Predicción SOI = -0.5298\n",
            "Año 8, Mes 4: Predicción SOI = -2.2307\n",
            "Año 8, Mes 5: Predicción SOI = 2.9946\n",
            "Año 8, Mes 6: Predicción SOI = 3.8070\n",
            "Año 8, Mes 7: Predicción SOI = 0.6208\n",
            "Año 8, Mes 8: Predicción SOI = 2.5124\n",
            "Año 8, Mes 9: Predicción SOI = 6.7317\n",
            "Año 8, Mes 10: Predicción SOI = 5.5379\n",
            "Año 8, Mes 11: Predicción SOI = 3.0222\n",
            "Año 8, Mes 12: Predicción SOI = -0.1113\n"
          ]
        }
      ]
    },
    {
      "cell_type": "code",
      "source": [
        "from sklearn.metrics import mean_squared_error\n",
        "\n",
        "# ...\n",
        "\n",
        "# Evaluar el modelo en el conjunto de prueba\n",
        "model.eval()\n",
        "test_losses = []\n",
        "true_values = []  # Almacena los valores reales\n",
        "predicted_values = []  # Almacena las predicciones\n",
        "\n",
        "with torch.no_grad():\n",
        "    for sequence, target in test_data:\n",
        "        sequence = np.reshape(sequence, (1, sequence_length, 1))\n",
        "        sequence = Variable(torch.Tensor(sequence))\n",
        "        target = Variable(torch.Tensor(np.array([target])))\n",
        "\n",
        "        outputs = model(sequence)\n",
        "        loss = criterion(outputs, target)\n",
        "        test_losses.append(loss.item())\n",
        "\n",
        "        # Almacenar valores reales y predicciones\n",
        "        true_values.append(target.item())\n",
        "        predicted_values.append(outputs.item())\n",
        "\n",
        "average_test_loss = np.mean(test_losses)\n",
        "print(f'Loss mean in the test set (MSE): {average_test_loss:.4f}')\n",
        "\n",
        "# Calcular el MSE\n",
        "mse = mean_squared_error(true_values, predicted_values)\n",
        "print(f'Mean cuadratic error (MSE) in the test set: {mse:.4f}')\n"
      ],
      "metadata": {
        "colab": {
          "base_uri": "https://localhost:8080/"
        },
        "id": "ilHUUIgy5_Y2",
        "outputId": "b241ae55-ed39-4815-adbc-6ff1aaa71cde"
      },
      "execution_count": null,
      "outputs": [
        {
          "output_type": "stream",
          "name": "stdout",
          "text": [
            "Promedio de pérdida en el conjunto de prueba (MSE): 0.8487\n",
            "Error Cuadrático Medio (MSE) en el conjunto de prueba: 0.8487\n"
          ]
        }
      ]
    },
    {
      "cell_type": "code",
      "source": [
        "threshold = 2  # Umbral de tolerancia\n",
        "correct_predictions = 0\n",
        "\n",
        "for i in range(len(predicted_values)):\n",
        "    if abs(predicted_values[i] - test_data[i][1]) <= threshold:\n",
        "        correct_predictions += 1\n",
        "\n",
        "accuracy = correct_predictions / len(predicted_values)\n",
        "print(f'Accuracy: {accuracy * 100:.2f}%')"
      ],
      "metadata": {
        "colab": {
          "base_uri": "https://localhost:8080/"
        },
        "id": "rvuvdYmh-b3W",
        "outputId": "ed28c243-66f8-4841-97e3-29e618853ac7"
      },
      "execution_count": null,
      "outputs": [
        {
          "output_type": "stream",
          "name": "stdout",
          "text": [
            "Accuracy: 97.38%\n"
          ]
        }
      ]
    },
    {
      "cell_type": "code",
      "source": [
        "import matplotlib.pyplot as plt\n",
        "import numpy as np\n",
        "\n",
        "# Crear un rango de fechas para los próximos 8 años (96 meses)\n",
        "start_date = df.index[-1] + pd.DateOffset(months=1)\n",
        "end_date = start_date + pd.DateOffset(months=95)\n",
        "date_range = pd.date_range(start_date, end_date, freq='MS')\n",
        "\n",
        "# Verificar que date_range y future_predictions tengan la misma longitud\n",
        "if len(date_range) == len(future_predictions):\n",
        "    # Crear un arreglo de colores basado en los valores de SOI\n",
        "    colors = ['green' if x > 7 else 'purple' if x < -7 else 'blue' for x in future_predictions]\n",
        "\n",
        "    # Graficar las predicciones\n",
        "    plt.figure(figsize=(12, 6))\n",
        "    plt.plot(date_range, future_predictions, label='Predictions', color='blue', linestyle='-')\n",
        "    plt.axhline(y=7, color='red', linestyle='--', label='+7')\n",
        "    plt.axhline(y=-7, color='red', linestyle='--', label='-7')\n",
        "    plt.xlabel('Time')\n",
        "    plt.ylabel('SOI')\n",
        "    plt.title('SOI value predictions')\n",
        "    plt.legend()\n",
        "    plt.grid(True)\n",
        "\n",
        "    # Rellenar áreas verdes y moradas según las condiciones\n",
        "    plt.fill_between(date_range, future_predictions, 7, where=(future_predictions > 7), interpolate=True, color='green', alpha=0.3)\n",
        "    plt.fill_between(date_range, future_predictions, -7, where=(future_predictions < -7), interpolate=True, color='purple', alpha=0.3)\n",
        "\n",
        "    plt.show()\n",
        "    plt.savefig(\"SOIpred.png\")\n",
        "else:\n",
        "    print(\"The dimensions of date_range and future_predictions have no coincidence\")\n",
        "\n",
        "\n"
      ],
      "metadata": {
        "colab": {
          "base_uri": "https://localhost:8080/",
          "height": 581
        },
        "id": "0LoBuqbZksTB",
        "outputId": "83a9b519-f5f6-4349-a55f-78bf0b37ebb0"
      },
      "execution_count": null,
      "outputs": [
        {
          "output_type": "display_data",
          "data": {
            "text/plain": [
              "<Figure size 1200x600 with 1 Axes>"
            ],
            "image/png": "[encoded data removed]"
          },
          "metadata": {}
        },
        {
          "output_type": "display_data",
          "data": {
            "text/plain": [
              "<Figure size 640x480 with 0 Axes>"
            ]
          },
          "metadata": {}
        }
      ]
    },
    {
      "cell_type": "markdown",
      "source": [
        "### ***A weird idea***\n",
        "\n",
        "Do not try it, i left her because i want to prove it later"
      ],
      "metadata": {
        "id": "UtM6yUuYqGE3"
      }
    },
    {
      "cell_type": "code",
      "source": [
        "# Crear secuencias de datos de entrenamiento y prueba\n",
        "sequence_length = 12  # Usar un año de datos para predecir el siguiente\n",
        "sequences = []\n",
        "for i in range(len(df) - sequence_length):\n",
        "    sequence = df['SOI'].iloc[i:i + sequence_length].values\n",
        "    target = df['SOI'].iloc[i + sequence_length]\n",
        "    sequences.append((sequence, target))\n",
        "\n",
        "train_size = int(0.8 * len(sequences))\n",
        "train_data = sequences[:train_size]\n",
        "test_data = sequences[train_size:]\n",
        "\n",
        "# Crear un modelo de series temporales basado en LSTM\n",
        "class TimeSeriesModel(nn.Module):\n",
        "    def __init__(self, input_size, hidden_size, num_layers):\n",
        "        super(TimeSeriesModel, self).__init__()\n",
        "        self.hidden_size = hidden_size\n",
        "        self.num_layers = num_layers\n",
        "        self.lstm = nn.LSTM(input_size, hidden_size, num_layers, batch_first=True)\n",
        "        self.fc = nn.Linear(hidden_size, 1)\n",
        "\n",
        "    def forward(self, x):\n",
        "        h0 = Variable(torch.zeros(self.num_layers, x.size(0), self.hidden_size))\n",
        "        c0 = Variable(torch.zeros(self.num_layers, x.size(0), self.hidden_size))\n",
        "        out, _ = self.lstm(x, (h0, c0))\n",
        "        out = self.fc(out[:, -1, :])\n",
        "        return out\n",
        "\n",
        "# Crear el modelo de series temporales\n",
        "input_size = 1  # Solo se predice el valor SOI\n",
        "hidden_size = 64\n",
        "num_layers = 2\n",
        "time_series_model = TimeSeriesModel(input_size, hidden_size, num_layers)\n",
        "\n",
        "# Función de pérdida y optimizador\n",
        "criterion = nn.MSELoss()\n",
        "optimizer = torch.optim.Adam(time_series_model.parameters(), lr=0.001)\n",
        "\n",
        "# Entrenar el modelo\n",
        "num_epochs = 100\n",
        "for epoch in range(num_epochs):\n",
        "    for sequence, target in train_data:\n",
        "        sequence = np.reshape(sequence, (1, sequence_length, 1))\n",
        "        sequence = Variable(torch.Tensor(sequence))\n",
        "        target = Variable(torch.Tensor(np.array([target])))\n",
        "\n",
        "        # Forward pass\n",
        "        outputs = time_series_model(sequence)\n",
        "        loss = criterion(outputs, target)\n",
        "\n",
        "        # Backward pass y optimización\n",
        "        optimizer.zero_grad()\n",
        "        loss.backward()\n",
        "        optimizer.step()\n",
        "\n",
        "    if (epoch + 1) % 10 == 0:\n",
        "        print(f'Epoch [{epoch + 1}/{num_epochs}], Loss: {loss.item():.4f}')\n",
        "\n",
        "# Evaluar el modelo en el conjunto de prueba (como en tu código anterior)"
      ],
      "metadata": {
        "colab": {
          "base_uri": "https://localhost:8080/"
        },
        "id": "IvN7bLh46ga5",
        "outputId": "0674a4cc-a3b7-4dfb-de95-5468156b949a"
      },
      "execution_count": null,
      "outputs": [
        {
          "output_type": "stream",
          "name": "stderr",
          "text": [
            "/usr/local/lib/python3.10/dist-packages/torch/nn/modules/loss.py:536: UserWarning: Using a target size (torch.Size([1])) that is different to the input size (torch.Size([1, 1])). This will likely lead to incorrect results due to broadcasting. Please ensure they have the same size.\n",
            "  return F.mse_loss(input, target, reduction=self.reduction)\n"
          ]
        },
        {
          "output_type": "stream",
          "name": "stdout",
          "text": [
            "Epoch [10/100], Loss: 0.3725\n",
            "Epoch [20/100], Loss: 0.7632\n",
            "Epoch [30/100], Loss: 0.2726\n",
            "Epoch [40/100], Loss: 0.3342\n",
            "Epoch [50/100], Loss: 0.1426\n",
            "Epoch [60/100], Loss: 0.0121\n",
            "Epoch [70/100], Loss: 0.0616\n",
            "Epoch [80/100], Loss: 0.0217\n",
            "Epoch [90/100], Loss: 0.0028\n",
            "Epoch [100/100], Loss: 0.0072\n"
          ]
        }
      ]
    },
    {
      "cell_type": "code",
      "source": [
        "# Evaluar el modelo en el conjunto de prueba\n",
        "time_series_model.eval()\n",
        "test_losses = []\n",
        "predicted_values = []\n",
        "\n",
        "with torch.no_grad():\n",
        "    for sequence, target in test_data:\n",
        "        sequence = np.reshape(sequence, (1, sequence_length, 1))\n",
        "        sequence = Variable(torch.Tensor(sequence))\n",
        "        target = Variable(torch.Tensor(np.array([target])))\n",
        "\n",
        "        outputs = time_series_model(sequence)\n",
        "        loss = criterion(outputs, target)\n",
        "        test_losses.append(loss.item())\n",
        "\n",
        "        predicted_values.append(outputs.numpy()[0, 0])  # Añadir la predicción al resultado\n",
        "\n",
        "average_test_loss = np.mean(test_losses)\n",
        "print(f'Promedio de pérdida en el conjunto de prueba (MSE): {average_test_loss:.4f}')\n",
        "\n",
        "# Desnormalizar las predicciones\n",
        "predicted_values = (np.array(predicted_values) * soi_std) + soi_mean\n",
        "\n",
        "# Imprimir las predicciones para el conjunto de prueba\n",
        "for i, prediction in enumerate(predicted_values):\n",
        "    print(f'Año {i + train_size // 12 + 1}, Mes {i + train_size % 12 + 1}: Predicción SOI = {prediction:.4f}')"
      ],
      "metadata": {
        "colab": {
          "base_uri": "https://localhost:8080/"
        },
        "id": "CpXm7WnW8OLW",
        "outputId": "8ab9343e-5363-4ddd-b730-4a6e5045fc42"
      },
      "execution_count": null,
      "outputs": [
        {
          "output_type": "stream",
          "name": "stdout",
          "text": [
            "Promedio de pérdida en el conjunto de prueba (MSE): 0.8238\n",
            "Año 115, Mes 7: Predicción SOI = -7.6707\n",
            "Año 116, Mes 8: Predicción SOI = 6.0266\n",
            "Año 117, Mes 9: Predicción SOI = -3.0617\n",
            "Año 118, Mes 10: Predicción SOI = -9.0013\n",
            "Año 119, Mes 11: Predicción SOI = -8.7553\n",
            "Año 120, Mes 12: Predicción SOI = -15.9826\n",
            "Año 121, Mes 13: Predicción SOI = -11.4649\n",
            "Año 122, Mes 14: Predicción SOI = -19.7980\n",
            "Año 123, Mes 15: Predicción SOI = -15.5994\n",
            "Año 124, Mes 16: Predicción SOI = -12.7355\n",
            "Año 125, Mes 17: Predicción SOI = -8.3932\n",
            "Año 126, Mes 18: Predicción SOI = -24.8483\n",
            "Año 127, Mes 19: Predicción SOI = -10.8530\n",
            "Año 128, Mes 20: Predicción SOI = -12.5324\n",
            "Año 129, Mes 21: Predicción SOI = 0.4256\n",
            "Año 130, Mes 22: Predicción SOI = -0.3233\n",
            "Año 131, Mes 23: Predicción SOI = -6.1099\n",
            "Año 132, Mes 24: Predicción SOI = -14.1652\n",
            "Año 133, Mes 25: Predicción SOI = -6.7097\n",
            "Año 134, Mes 26: Predicción SOI = -9.4296\n",
            "Año 135, Mes 27: Predicción SOI = -9.3430\n",
            "Año 136, Mes 28: Predicción SOI = -9.6262\n",
            "Año 137, Mes 29: Predicción SOI = -9.3218\n",
            "Año 138, Mes 30: Predicción SOI = -10.2296\n",
            "Año 139, Mes 31: Predicción SOI = -7.4421\n",
            "Año 140, Mes 32: Predicción SOI = -7.6212\n",
            "Año 141, Mes 33: Predicción SOI = -8.0024\n",
            "Año 142, Mes 34: Predicción SOI = -7.4620\n",
            "Año 143, Mes 35: Predicción SOI = -6.3154\n",
            "Año 144, Mes 36: Predicción SOI = -3.8961\n",
            "Año 145, Mes 37: Predicción SOI = 7.8164\n",
            "Año 146, Mes 38: Predicción SOI = 10.1438\n",
            "Año 147, Mes 39: Predicción SOI = 2.4965\n",
            "Año 148, Mes 40: Predicción SOI = 1.6722\n",
            "Año 149, Mes 41: Predicción SOI = -5.7161\n",
            "Año 150, Mes 42: Predicción SOI = -1.2083\n",
            "Año 151, Mes 43: Predicción SOI = -1.1058\n",
            "Año 152, Mes 44: Predicción SOI = -11.5882\n",
            "Año 153, Mes 45: Predicción SOI = -12.2623\n",
            "Año 154, Mes 46: Predicción SOI = -13.7927\n",
            "Año 155, Mes 47: Predicción SOI = -10.3812\n",
            "Año 156, Mes 48: Predicción SOI = -11.8808\n",
            "Año 157, Mes 49: Predicción SOI = -10.8896\n",
            "Año 158, Mes 50: Predicción SOI = -14.0557\n",
            "Año 159, Mes 51: Predicción SOI = 8.7012\n",
            "Año 160, Mes 52: Predicción SOI = 6.4333\n",
            "Año 161, Mes 53: Predicción SOI = -1.7134\n",
            "Año 162, Mes 54: Predicción SOI = -10.5845\n",
            "Año 163, Mes 55: Predicción SOI = 7.4332\n",
            "Año 164, Mes 56: Predicción SOI = 1.8525\n",
            "Año 165, Mes 57: Predicción SOI = 2.1267\n",
            "Año 166, Mes 58: Predicción SOI = 0.4850\n",
            "Año 167, Mes 59: Predicción SOI = -1.1598\n",
            "Año 168, Mes 60: Predicción SOI = 2.2334\n",
            "Año 169, Mes 61: Predicción SOI = -0.1606\n",
            "Año 170, Mes 62: Predicción SOI = 3.0792\n",
            "Año 171, Mes 63: Predicción SOI = -1.0956\n",
            "Año 172, Mes 64: Predicción SOI = 0.7020\n",
            "Año 173, Mes 65: Predicción SOI = -2.3829\n",
            "Año 174, Mes 66: Predicción SOI = 0.1301\n",
            "Año 175, Mes 67: Predicción SOI = 2.7483\n",
            "Año 176, Mes 68: Predicción SOI = -1.0252\n",
            "Año 177, Mes 69: Predicción SOI = 1.8038\n",
            "Año 178, Mes 70: Predicción SOI = 9.0236\n",
            "Año 179, Mes 71: Predicción SOI = 10.3195\n",
            "Año 180, Mes 72: Predicción SOI = -1.1375\n",
            "Año 181, Mes 73: Predicción SOI = 6.7469\n",
            "Año 182, Mes 74: Predicción SOI = -8.6526\n",
            "Año 183, Mes 75: Predicción SOI = 6.8603\n",
            "Año 184, Mes 76: Predicción SOI = 1.7982\n",
            "Año 185, Mes 77: Predicción SOI = -3.7263\n",
            "Año 186, Mes 78: Predicción SOI = -17.1296\n",
            "Año 187, Mes 79: Predicción SOI = -19.9356\n",
            "Año 188, Mes 80: Predicción SOI = -3.9754\n",
            "Año 189, Mes 81: Predicción SOI = -3.5002\n",
            "Año 190, Mes 82: Predicción SOI = -14.1989\n",
            "Año 191, Mes 83: Predicción SOI = -2.4061\n",
            "Año 192, Mes 84: Predicción SOI = -7.4863\n",
            "Año 193, Mes 85: Predicción SOI = -11.5022\n",
            "Año 194, Mes 86: Predicción SOI = -17.5174\n",
            "Año 195, Mes 87: Predicción SOI = -16.5494\n",
            "Año 196, Mes 88: Predicción SOI = -18.3286\n",
            "Año 197, Mes 89: Predicción SOI = -14.7816\n",
            "Año 198, Mes 90: Predicción SOI = -6.8359\n",
            "Año 199, Mes 91: Predicción SOI = -1.0218\n",
            "Año 200, Mes 92: Predicción SOI = 2.2586\n",
            "Año 201, Mes 93: Predicción SOI = -0.4675\n",
            "Año 202, Mes 94: Predicción SOI = 4.0933\n",
            "Año 203, Mes 95: Predicción SOI = 4.8454\n",
            "Año 204, Mes 96: Predicción SOI = -4.4439\n",
            "Año 205, Mes 97: Predicción SOI = 1.5260\n",
            "Año 206, Mes 98: Predicción SOI = 2.6792\n",
            "Año 207, Mes 99: Predicción SOI = 10.4745\n",
            "Año 208, Mes 100: Predicción SOI = 3.8096\n",
            "Año 209, Mes 101: Predicción SOI = 16.5435\n",
            "Año 210, Mes 102: Predicción SOI = 8.0673\n",
            "Año 211, Mes 103: Predicción SOI = -11.1182\n",
            "Año 212, Mes 104: Predicción SOI = -0.3573\n",
            "Año 213, Mes 105: Predicción SOI = -0.9871\n",
            "Año 214, Mes 106: Predicción SOI = -2.5101\n",
            "Año 215, Mes 107: Predicción SOI = 7.6014\n",
            "Año 216, Mes 108: Predicción SOI = 7.0298\n",
            "Año 217, Mes 109: Predicción SOI = 7.7756\n",
            "Año 218, Mes 110: Predicción SOI = -1.2219\n",
            "Año 219, Mes 111: Predicción SOI = 11.4233\n",
            "Año 220, Mes 112: Predicción SOI = 3.3096\n",
            "Año 221, Mes 113: Predicción SOI = 3.2290\n",
            "Año 222, Mes 114: Predicción SOI = 2.5184\n",
            "Año 223, Mes 115: Predicción SOI = -1.6631\n",
            "Año 224, Mes 116: Predicción SOI = 8.0442\n",
            "Año 225, Mes 117: Predicción SOI = 0.5834\n",
            "Año 226, Mes 118: Predicción SOI = -2.1885\n",
            "Año 227, Mes 119: Predicción SOI = 2.5649\n",
            "Año 228, Mes 120: Predicción SOI = 2.6634\n",
            "Año 229, Mes 121: Predicción SOI = 4.4152\n",
            "Año 230, Mes 122: Predicción SOI = 8.3059\n",
            "Año 231, Mes 123: Predicción SOI = 10.1120\n",
            "Año 232, Mes 124: Predicción SOI = 16.1391\n",
            "Año 233, Mes 125: Predicción SOI = -1.9044\n",
            "Año 234, Mes 126: Predicción SOI = 0.0035\n",
            "Año 235, Mes 127: Predicción SOI = 0.6669\n",
            "Año 236, Mes 128: Predicción SOI = -9.1060\n",
            "Año 237, Mes 129: Predicción SOI = -4.6939\n",
            "Año 238, Mes 130: Predicción SOI = -3.4212\n",
            "Año 239, Mes 131: Predicción SOI = -13.9933\n",
            "Año 240, Mes 132: Predicción SOI = 9.1268\n",
            "Año 241, Mes 133: Predicción SOI = -1.7441\n",
            "Año 242, Mes 134: Predicción SOI = 9.6664\n",
            "Año 243, Mes 135: Predicción SOI = -2.5495\n",
            "Año 244, Mes 136: Predicción SOI = -3.5415\n",
            "Año 245, Mes 137: Predicción SOI = -8.5116\n",
            "Año 246, Mes 138: Predicción SOI = -7.0666\n",
            "Año 247, Mes 139: Predicción SOI = -16.7246\n",
            "Año 248, Mes 140: Predicción SOI = -9.7365\n",
            "Año 249, Mes 141: Predicción SOI = -8.2022\n",
            "Año 250, Mes 142: Predicción SOI = -6.6704\n",
            "Año 251, Mes 143: Predicción SOI = -7.8407\n",
            "Año 252, Mes 144: Predicción SOI = -7.2203\n",
            "Año 253, Mes 145: Predicción SOI = -10.7051\n",
            "Año 254, Mes 146: Predicción SOI = -13.0964\n",
            "Año 255, Mes 147: Predicción SOI = 1.0730\n",
            "Año 256, Mes 148: Predicción SOI = -0.1240\n",
            "Año 257, Mes 149: Predicción SOI = 4.7119\n",
            "Año 258, Mes 150: Predicción SOI = -2.9207\n",
            "Año 259, Mes 151: Predicción SOI = 3.2532\n",
            "Año 260, Mes 152: Predicción SOI = 1.2556\n",
            "Año 261, Mes 153: Predicción SOI = 2.7351\n",
            "Año 262, Mes 154: Predicción SOI = 3.8942\n",
            "Año 263, Mes 155: Predicción SOI = 3.9610\n",
            "Año 264, Mes 156: Predicción SOI = -2.3082\n",
            "Año 265, Mes 157: Predicción SOI = 4.6811\n",
            "Año 266, Mes 158: Predicción SOI = 3.2942\n",
            "Año 267, Mes 159: Predicción SOI = 7.0433\n",
            "Año 268, Mes 160: Predicción SOI = 0.6653\n",
            "Año 269, Mes 161: Predicción SOI = -11.1016\n",
            "Año 270, Mes 162: Predicción SOI = 10.0846\n",
            "Año 271, Mes 163: Predicción SOI = 4.3119\n",
            "Año 272, Mes 164: Predicción SOI = 0.0384\n",
            "Año 273, Mes 165: Predicción SOI = -6.9011\n",
            "Año 274, Mes 166: Predicción SOI = -1.7821\n",
            "Año 275, Mes 167: Predicción SOI = -7.7707\n",
            "Año 276, Mes 168: Predicción SOI = -9.2433\n",
            "Año 277, Mes 169: Predicción SOI = -3.2087\n",
            "Año 278, Mes 170: Predicción SOI = -2.2451\n",
            "Año 279, Mes 171: Predicción SOI = -12.1385\n",
            "Año 280, Mes 172: Predicción SOI = -3.6371\n",
            "Año 281, Mes 173: Predicción SOI = -9.9274\n",
            "Año 282, Mes 174: Predicción SOI = -16.3065\n",
            "Año 283, Mes 175: Predicción SOI = -1.6311\n",
            "Año 284, Mes 176: Predicción SOI = -0.8963\n",
            "Año 285, Mes 177: Predicción SOI = 1.8395\n",
            "Año 286, Mes 178: Predicción SOI = 0.7663\n",
            "Año 287, Mes 179: Predicción SOI = 4.9944\n",
            "Año 288, Mes 180: Predicción SOI = 0.6294\n",
            "Año 289, Mes 181: Predicción SOI = -0.7746\n",
            "Año 290, Mes 182: Predicción SOI = 2.1411\n",
            "Año 291, Mes 183: Predicción SOI = 13.2260\n",
            "Año 292, Mes 184: Predicción SOI = 12.1925\n",
            "Año 293, Mes 185: Predicción SOI = 2.4734\n",
            "Año 294, Mes 186: Predicción SOI = -11.3214\n",
            "Año 295, Mes 187: Predicción SOI = -2.6687\n",
            "Año 296, Mes 188: Predicción SOI = -7.1203\n",
            "Año 297, Mes 189: Predicción SOI = -12.8374\n",
            "Año 298, Mes 190: Predicción SOI = -7.2513\n",
            "Año 299, Mes 191: Predicción SOI = -13.3733\n",
            "Año 300, Mes 192: Predicción SOI = -9.5462\n",
            "Año 301, Mes 193: Predicción SOI = -4.1833\n",
            "Año 302, Mes 194: Predicción SOI = -9.4457\n",
            "Año 303, Mes 195: Predicción SOI = 0.2518\n",
            "Año 304, Mes 196: Predicción SOI = -5.9518\n",
            "Año 305, Mes 197: Predicción SOI = 7.2659\n",
            "Año 306, Mes 198: Predicción SOI = 0.5978\n",
            "Año 307, Mes 199: Predicción SOI = -1.8633\n",
            "Año 308, Mes 200: Predicción SOI = -2.8327\n",
            "Año 309, Mes 201: Predicción SOI = 1.4230\n",
            "Año 310, Mes 202: Predicción SOI = 0.6734\n",
            "Año 311, Mes 203: Predicción SOI = 11.5684\n",
            "Año 312, Mes 204: Predicción SOI = 8.5132\n",
            "Año 313, Mes 205: Predicción SOI = 6.8019\n",
            "Año 314, Mes 206: Predicción SOI = 3.0339\n",
            "Año 315, Mes 207: Predicción SOI = 16.2815\n",
            "Año 316, Mes 208: Predicción SOI = -0.4696\n",
            "Año 317, Mes 209: Predicción SOI = 1.8904\n",
            "Año 318, Mes 210: Predicción SOI = 9.5193\n",
            "Año 319, Mes 211: Predicción SOI = 3.0198\n",
            "Año 320, Mes 212: Predicción SOI = 0.9910\n",
            "Año 321, Mes 213: Predicción SOI = 3.8042\n",
            "Año 322, Mes 214: Predicción SOI = 7.5388\n",
            "Año 323, Mes 215: Predicción SOI = 7.2389\n",
            "Año 324, Mes 216: Predicción SOI = 13.9098\n",
            "Año 325, Mes 217: Predicción SOI = 5.0862\n",
            "Año 326, Mes 218: Predicción SOI = 10.4349\n",
            "Año 327, Mes 219: Predicción SOI = 15.3284\n",
            "Año 328, Mes 220: Predicción SOI = 14.1240\n",
            "Año 329, Mes 221: Predicción SOI = 3.2604\n",
            "Año 330, Mes 222: Predicción SOI = -7.6229\n",
            "Año 331, Mes 223: Predicción SOI = 0.7216\n",
            "Año 332, Mes 224: Predicción SOI = 0.5147\n",
            "Año 333, Mes 225: Predicción SOI = -7.3625\n",
            "Año 334, Mes 226: Predicción SOI = -0.3874\n",
            "Año 335, Mes 227: Predicción SOI = -12.0756\n",
            "Año 336, Mes 228: Predicción SOI = 4.6085\n",
            "Año 337, Mes 229: Predicción SOI = -17.4656\n",
            "Año 338, Mes 230: Predicción SOI = -4.3988\n",
            "Año 339, Mes 231: Predicción SOI = -14.8132\n",
            "Año 340, Mes 232: Predicción SOI = -0.8020\n",
            "Año 341, Mes 233: Predicción SOI = 4.2810\n",
            "Año 342, Mes 234: Predicción SOI = 2.9219\n",
            "Año 343, Mes 235: Predicción SOI = -1.7647\n",
            "Año 344, Mes 236: Predicción SOI = 3.9129\n",
            "Año 345, Mes 237: Predicción SOI = 15.9487\n",
            "Año 346, Mes 238: Predicción SOI = 13.8051\n",
            "Año 347, Mes 239: Predicción SOI = 14.8184\n",
            "Año 348, Mes 240: Predicción SOI = 15.0694\n",
            "Año 349, Mes 241: Predicción SOI = 19.7607\n",
            "Año 350, Mes 242: Predicción SOI = 20.6005\n",
            "Año 351, Mes 243: Predicción SOI = 3.8956\n",
            "Año 352, Mes 244: Predicción SOI = 16.3609\n",
            "Año 353, Mes 245: Predicción SOI = 12.6147\n",
            "Año 354, Mes 246: Predicción SOI = 18.7257\n",
            "Año 355, Mes 247: Predicción SOI = -3.3949\n",
            "Año 356, Mes 248: Predicción SOI = 9.2807\n",
            "Año 357, Mes 249: Predicción SOI = 7.2039\n",
            "Año 358, Mes 250: Predicción SOI = 7.5619\n",
            "Año 359, Mes 251: Predicción SOI = 4.4500\n",
            "Año 360, Mes 252: Predicción SOI = 1.6148\n",
            "Año 361, Mes 253: Predicción SOI = 9.7160\n",
            "Año 362, Mes 254: Predicción SOI = 8.8976\n",
            "Año 363, Mes 255: Predicción SOI = -1.6393\n",
            "Año 364, Mes 256: Predicción SOI = 7.7752\n",
            "Año 365, Mes 257: Predicción SOI = 8.0273\n",
            "Año 366, Mes 258: Predicción SOI = -7.6847\n",
            "Año 367, Mes 259: Predicción SOI = -9.8159\n",
            "Año 368, Mes 260: Predicción SOI = 3.4986\n",
            "Año 369, Mes 261: Predicción SOI = -12.4145\n",
            "Año 370, Mes 262: Predicción SOI = 1.3761\n",
            "Año 371, Mes 263: Predicción SOI = -12.6520\n",
            "Año 372, Mes 264: Predicción SOI = -3.8489\n",
            "Año 373, Mes 265: Predicción SOI = -1.1865\n",
            "Año 374, Mes 266: Predicción SOI = -0.6714\n",
            "Año 375, Mes 267: Predicción SOI = -0.8990\n",
            "Año 376, Mes 268: Predicción SOI = 8.2941\n",
            "Año 377, Mes 269: Predicción SOI = -3.8352\n",
            "Año 378, Mes 270: Predicción SOI = 2.5977\n",
            "Año 379, Mes 271: Predicción SOI = 2.0809\n",
            "Año 380, Mes 272: Predicción SOI = 1.0976\n",
            "Año 381, Mes 273: Predicción SOI = 0.3489\n",
            "Año 382, Mes 274: Predicción SOI = 5.1379\n",
            "Año 383, Mes 275: Predicción SOI = 4.1297\n",
            "Año 384, Mes 276: Predicción SOI = 5.8818\n",
            "Año 385, Mes 277: Predicción SOI = 7.9272\n",
            "Año 386, Mes 278: Predicción SOI = 4.9008\n",
            "Año 387, Mes 279: Predicción SOI = -17.5051\n",
            "Año 388, Mes 280: Predicción SOI = -1.9211\n",
            "Año 389, Mes 281: Predicción SOI = 8.5438\n",
            "Año 390, Mes 282: Predicción SOI = 6.8943\n",
            "Año 391, Mes 283: Predicción SOI = -4.0053\n",
            "Año 392, Mes 284: Predicción SOI = -3.5170\n",
            "Año 393, Mes 285: Predicción SOI = -5.6086\n",
            "Año 394, Mes 286: Predicción SOI = 0.7959\n",
            "Año 395, Mes 287: Predicción SOI = -4.6907\n",
            "Año 396, Mes 288: Predicción SOI = -5.3117\n",
            "Año 397, Mes 289: Predicción SOI = -8.8717\n",
            "Año 398, Mes 290: Predicción SOI = -5.2767\n",
            "Año 399, Mes 291: Predicción SOI = -3.0376\n",
            "Año 400, Mes 292: Predicción SOI = -13.2464\n",
            "Año 401, Mes 293: Predicción SOI = 4.2239\n",
            "Año 402, Mes 294: Predicción SOI = -10.4365\n",
            "Año 403, Mes 295: Predicción SOI = -14.4285\n",
            "Año 404, Mes 296: Predicción SOI = -14.8007\n",
            "Año 405, Mes 297: Predicción SOI = -16.2638\n",
            "Año 406, Mes 298: Predicción SOI = -13.3527\n",
            "Año 407, Mes 299: Predicción SOI = -16.2274\n",
            "Año 408, Mes 300: Predicción SOI = -7.7973\n",
            "Año 409, Mes 301: Predicción SOI = -8.1069\n",
            "Año 410, Mes 302: Predicción SOI = -13.3080\n",
            "Año 411, Mes 303: Predicción SOI = -5.1825\n",
            "Año 412, Mes 304: Predicción SOI = -23.0348\n",
            "Año 413, Mes 305: Predicción SOI = -11.1916\n",
            "Año 414, Mes 306: Predicción SOI = -16.2856\n",
            "Año 415, Mes 307: Predicción SOI = 13.1855\n",
            "Año 416, Mes 308: Predicción SOI = 5.4418\n",
            "Año 417, Mes 309: Predicción SOI = -0.9403\n",
            "Año 418, Mes 310: Predicción SOI = -4.9291\n",
            "Año 419, Mes 311: Predicción SOI = 4.3854\n",
            "Año 420, Mes 312: Predicción SOI = 5.2025\n",
            "Año 421, Mes 313: Predicción SOI = -3.9962\n",
            "Año 422, Mes 314: Predicción SOI = 3.5422\n",
            "Año 423, Mes 315: Predicción SOI = -0.6413\n",
            "Año 424, Mes 316: Predicción SOI = -2.9757\n",
            "Año 425, Mes 317: Predicción SOI = -11.6146\n",
            "Año 426, Mes 318: Predicción SOI = 4.3017\n",
            "Año 427, Mes 319: Predicción SOI = -6.7537\n",
            "Año 428, Mes 320: Predicción SOI = 11.0962\n",
            "Año 429, Mes 321: Predicción SOI = 1.3506\n",
            "Año 430, Mes 322: Predicción SOI = -1.2927\n",
            "Año 431, Mes 323: Predicción SOI = -3.1079\n",
            "Año 432, Mes 324: Predicción SOI = 3.2841\n",
            "Año 433, Mes 325: Predicción SOI = -3.3427\n",
            "Año 434, Mes 326: Predicción SOI = 9.6392\n",
            "Año 435, Mes 327: Predicción SOI = 0.3510\n",
            "Año 436, Mes 328: Predicción SOI = 6.5248\n",
            "Año 437, Mes 329: Predicción SOI = 3.7369\n",
            "Año 438, Mes 330: Predicción SOI = 0.1993\n",
            "Año 439, Mes 331: Predicción SOI = -9.6480\n",
            "Año 440, Mes 332: Predicción SOI = 0.8787\n",
            "Año 441, Mes 333: Predicción SOI = -6.1521\n",
            "Año 442, Mes 334: Predicción SOI = 3.8746\n",
            "Año 443, Mes 335: Predicción SOI = -4.1824\n",
            "Año 444, Mes 336: Predicción SOI = -3.2477\n",
            "Año 445, Mes 337: Predicción SOI = -2.3855\n",
            "Año 446, Mes 338: Predicción SOI = 4.0976\n",
            "Año 447, Mes 339: Predicción SOI = 3.0610\n",
            "Año 448, Mes 340: Predicción SOI = 2.6844\n",
            "Año 449, Mes 341: Predicción SOI = -1.1171\n",
            "Año 450, Mes 342: Predicción SOI = -0.3956\n",
            "Año 451, Mes 343: Predicción SOI = -6.3514\n",
            "Año 452, Mes 344: Predicción SOI = -5.7013\n",
            "Año 453, Mes 345: Predicción SOI = -7.5136\n",
            "Año 454, Mes 346: Predicción SOI = -9.9298\n",
            "Año 455, Mes 347: Predicción SOI = -14.2577\n",
            "Año 456, Mes 348: Predicción SOI = -10.7796\n",
            "Año 457, Mes 349: Predicción SOI = -0.1374\n",
            "Año 458, Mes 350: Predicción SOI = -0.7039\n"
          ]
        }
      ]
    },
    {
      "cell_type": "code",
      "source": [
        "threshold = 0.1  # Umbral de tolerancia\n",
        "correct_predictions = 0\n",
        "\n",
        "for i in range(len(predicted_values)):\n",
        "    if abs(predicted_values[i] - test_data[i][1]) <= threshold:\n",
        "        correct_predictions += 1\n",
        "\n",
        "accuracy = correct_predictions / len(predicted_values)\n",
        "print(f'Accuracy: {accuracy * 100:.2f}%')"
      ],
      "metadata": {
        "colab": {
          "base_uri": "https://localhost:8080/"
        },
        "id": "PQKZh_yy87j5",
        "outputId": "1c5e2772-e1c6-4822-a068-1aa72e4a9bcc"
      },
      "execution_count": null,
      "outputs": [
        {
          "output_type": "stream",
          "name": "stdout",
          "text": [
            "Accuracy: 0.87%\n"
          ]
        }
      ]
    },
    {
      "cell_type": "code",
      "source": [
        "accuracy"
      ],
      "metadata": {
        "colab": {
          "base_uri": "https://localhost:8080/"
        },
        "id": "7lbeHiIX9lm3",
        "outputId": "189a2796-bc1b-466b-ad5b-a5a638aeb53c"
      },
      "execution_count": null,
      "outputs": [
        {
          "output_type": "execute_result",
          "data": {
            "text/plain": [
              "0.00872093023255814"
            ]
          },
          "metadata": {},
          "execution_count": 51
        }
      ]
    }
  ]
}